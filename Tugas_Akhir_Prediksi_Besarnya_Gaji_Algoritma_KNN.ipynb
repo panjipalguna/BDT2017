{
  "nbformat": 4,
  "nbformat_minor": 0,
  "metadata": {
    "kernelspec": {
      "display_name": "Python 3",
      "language": "python",
      "name": "python3"
    },
    "language_info": {
      "codemirror_mode": {
        "name": "ipython",
        "version": 3
      },
      "file_extension": ".py",
      "mimetype": "text/x-python",
      "name": "python",
      "nbconvert_exporter": "python",
      "pygments_lexer": "ipython3",
      "version": "3.7.3"
    },
    "colab": {
      "name": "Tugas Akhir_Prediksi Besarnya Gaji_Algoritma KNN.ipynb",
      "provenance": [],
      "include_colab_link": true
    }
  },
  "cells": [
    {
      "cell_type": "markdown",
      "metadata": {
        "id": "view-in-github",
        "colab_type": "text"
      },
      "source": [
        "<a href=\"https://colab.research.google.com/github/panjipalguna/BDT2017/blob/master/Tugas_Akhir_Prediksi_Besarnya_Gaji_Algoritma_KNN.ipynb\" target=\"_parent\"><img src=\"https://colab.research.google.com/assets/colab-badge.svg\" alt=\"Open In Colab\"/></a>"
      ]
    },
    {
      "cell_type": "markdown",
      "metadata": {
        "id": "0lQ-49tl-CLe",
        "colab_type": "text"
      },
      "source": [
        "# Tugas Akhir: Memprediksi Besarnya Gaji (Algoritma KNN)\n",
        "## Oleh: Moh. Ridwan"
      ]
    },
    {
      "cell_type": "code",
      "metadata": {
        "id": "-q5f1H-3-CLg",
        "colab_type": "code",
        "colab": {}
      },
      "source": [
        "# import library yang diperlukan\n",
        "\n",
        "import pandas as pd\n",
        "import numpy as np\n",
        "from sklearn.preprocessing import StandardScaler\n",
        "from sklearn.neighbors import KNeighborsClassifier\n",
        "from sklearn.model_selection import cross_val_score\n",
        "from sklearn.model_selection import RandomizedSearchCV, GridSearchCV\n",
        "from sklearn.metrics import roc_auc_score\n",
        "from sklearn.model_selection import train_test_split"
      ],
      "execution_count": null,
      "outputs": []
    },
    {
      "cell_type": "code",
      "metadata": {
        "id": "OhFtiE1m-CLw",
        "colab_type": "code",
        "colab": {}
      },
      "source": [
        "# Read Data\n",
        "df_test = pd.read_csv('pendapatan_test.csv')\n",
        "df_train = pd.read_csv('pendapatan_train.csv')"
      ],
      "execution_count": null,
      "outputs": []
    },
    {
      "cell_type": "code",
      "metadata": {
        "id": "NNeUE3cO-CL6",
        "colab_type": "code",
        "colab": {
          "base_uri": "https://localhost:8080/",
          "height": 254
        },
        "outputId": "f79e9234-94dc-40ef-fc68-17aaf4135d26"
      },
      "source": [
        "# Melihat lima data teratas\n",
        "df_test.head()"
      ],
      "execution_count": null,
      "outputs": [
        {
          "output_type": "execute_result",
          "data": {
            "text/html": [
              "<div>\n",
              "<style scoped>\n",
              "    .dataframe tbody tr th:only-of-type {\n",
              "        vertical-align: middle;\n",
              "    }\n",
              "\n",
              "    .dataframe tbody tr th {\n",
              "        vertical-align: top;\n",
              "    }\n",
              "\n",
              "    .dataframe thead th {\n",
              "        text-align: right;\n",
              "    }\n",
              "</style>\n",
              "<table border=\"1\" class=\"dataframe\">\n",
              "  <thead>\n",
              "    <tr style=\"text-align: right;\">\n",
              "      <th></th>\n",
              "      <th>id</th>\n",
              "      <th>Umur</th>\n",
              "      <th>Kelas Pekerja</th>\n",
              "      <th>Berat Akhir</th>\n",
              "      <th>Pendidikan</th>\n",
              "      <th>Jmlh Tahun Pendidikan</th>\n",
              "      <th>Status Perkawinan</th>\n",
              "      <th>Pekerjaan</th>\n",
              "      <th>Jenis Kelamin</th>\n",
              "      <th>Keuntungan Kapital</th>\n",
              "      <th>Kerugian Capital</th>\n",
              "      <th>Jam per Minggu</th>\n",
              "    </tr>\n",
              "  </thead>\n",
              "  <tbody>\n",
              "    <tr>\n",
              "      <th>0</th>\n",
              "      <td>28794</td>\n",
              "      <td>31</td>\n",
              "      <td>Pemerintah Provinsi</td>\n",
              "      <td>207301</td>\n",
              "      <td>SMA</td>\n",
              "      <td>9</td>\n",
              "      <td>Menikah</td>\n",
              "      <td>Pemuka Agama</td>\n",
              "      <td>Perempuan</td>\n",
              "      <td>0.0</td>\n",
              "      <td>0.0</td>\n",
              "      <td>40.0</td>\n",
              "    </tr>\n",
              "    <tr>\n",
              "      <th>1</th>\n",
              "      <td>28795</td>\n",
              "      <td>34</td>\n",
              "      <td>Wiraswasta</td>\n",
              "      <td>324254</td>\n",
              "      <td>SMA</td>\n",
              "      <td>9</td>\n",
              "      <td>Menikah</td>\n",
              "      <td>Mesin Inspeksi</td>\n",
              "      <td>Laki2</td>\n",
              "      <td>0.0</td>\n",
              "      <td>0.0</td>\n",
              "      <td>40.0</td>\n",
              "    </tr>\n",
              "    <tr>\n",
              "      <th>2</th>\n",
              "      <td>28796</td>\n",
              "      <td>58</td>\n",
              "      <td>Wiraswasta</td>\n",
              "      <td>27385</td>\n",
              "      <td>SMA</td>\n",
              "      <td>9</td>\n",
              "      <td>Menikah</td>\n",
              "      <td>Ekesekutif Managerial</td>\n",
              "      <td>Laki2</td>\n",
              "      <td>0.0</td>\n",
              "      <td>0.0</td>\n",
              "      <td>60.0</td>\n",
              "    </tr>\n",
              "    <tr>\n",
              "      <th>3</th>\n",
              "      <td>28797</td>\n",
              "      <td>49</td>\n",
              "      <td>Wiraswasta</td>\n",
              "      <td>723746</td>\n",
              "      <td>SMA</td>\n",
              "      <td>9</td>\n",
              "      <td>Menikah</td>\n",
              "      <td>Perbaikan Kerajinan</td>\n",
              "      <td>Laki2</td>\n",
              "      <td>0.0</td>\n",
              "      <td>0.0</td>\n",
              "      <td>43.0</td>\n",
              "    </tr>\n",
              "    <tr>\n",
              "      <th>4</th>\n",
              "      <td>28798</td>\n",
              "      <td>60</td>\n",
              "      <td>Wiraswasta</td>\n",
              "      <td>194980</td>\n",
              "      <td>SMA</td>\n",
              "      <td>9</td>\n",
              "      <td>Berpisah</td>\n",
              "      <td>Pemuka Agama</td>\n",
              "      <td>Perempuan</td>\n",
              "      <td>0.0</td>\n",
              "      <td>0.0</td>\n",
              "      <td>20.0</td>\n",
              "    </tr>\n",
              "  </tbody>\n",
              "</table>\n",
              "</div>"
            ],
            "text/plain": [
              "      id  Umur  ... Kerugian Capital  Jam per Minggu\n",
              "0  28794    31  ...              0.0            40.0\n",
              "1  28795    34  ...              0.0            40.0\n",
              "2  28796    58  ...              0.0            60.0\n",
              "3  28797    49  ...              0.0            43.0\n",
              "4  28798    60  ...              0.0            20.0\n",
              "\n",
              "[5 rows x 12 columns]"
            ]
          },
          "metadata": {
            "tags": []
          },
          "execution_count": 4
        }
      ]
    },
    {
      "cell_type": "code",
      "metadata": {
        "id": "SOhMD9cR-CMI",
        "colab_type": "code",
        "colab": {
          "base_uri": "https://localhost:8080/",
          "height": 289
        },
        "outputId": "ced442ef-b3ff-4269-dea7-47bc4595ed12"
      },
      "source": [
        "df_train.head()"
      ],
      "execution_count": null,
      "outputs": [
        {
          "output_type": "execute_result",
          "data": {
            "text/html": [
              "<div>\n",
              "<style scoped>\n",
              "    .dataframe tbody tr th:only-of-type {\n",
              "        vertical-align: middle;\n",
              "    }\n",
              "\n",
              "    .dataframe tbody tr th {\n",
              "        vertical-align: top;\n",
              "    }\n",
              "\n",
              "    .dataframe thead th {\n",
              "        text-align: right;\n",
              "    }\n",
              "</style>\n",
              "<table border=\"1\" class=\"dataframe\">\n",
              "  <thead>\n",
              "    <tr style=\"text-align: right;\">\n",
              "      <th></th>\n",
              "      <th>id</th>\n",
              "      <th>Umur</th>\n",
              "      <th>Kelas Pekerja</th>\n",
              "      <th>Berat Akhir</th>\n",
              "      <th>Pendidikan</th>\n",
              "      <th>Jmlh Tahun Pendidikan</th>\n",
              "      <th>Status Perkawinan</th>\n",
              "      <th>Pekerjaan</th>\n",
              "      <th>Jenis Kelamin</th>\n",
              "      <th>Keuntungan Kapital</th>\n",
              "      <th>Kerugian Capital</th>\n",
              "      <th>Jam per Minggu</th>\n",
              "      <th>Gaji</th>\n",
              "    </tr>\n",
              "  </thead>\n",
              "  <tbody>\n",
              "    <tr>\n",
              "      <th>0</th>\n",
              "      <td>0</td>\n",
              "      <td>40</td>\n",
              "      <td>Wiraswasta</td>\n",
              "      <td>205047</td>\n",
              "      <td>SMA</td>\n",
              "      <td>9</td>\n",
              "      <td>Menikah LDR</td>\n",
              "      <td>Perbaikan Kerajinan</td>\n",
              "      <td>Laki2</td>\n",
              "      <td>0.0</td>\n",
              "      <td>0.0</td>\n",
              "      <td>40.0</td>\n",
              "      <td>&gt;7jt</td>\n",
              "    </tr>\n",
              "    <tr>\n",
              "      <th>1</th>\n",
              "      <td>1</td>\n",
              "      <td>33</td>\n",
              "      <td>Pemerintah Lokal</td>\n",
              "      <td>298785</td>\n",
              "      <td>10th</td>\n",
              "      <td>6</td>\n",
              "      <td>Cerai</td>\n",
              "      <td>Supir</td>\n",
              "      <td>Laki2</td>\n",
              "      <td>0.0</td>\n",
              "      <td>0.0</td>\n",
              "      <td>40.0</td>\n",
              "      <td>&lt;=7jt</td>\n",
              "    </tr>\n",
              "    <tr>\n",
              "      <th>2</th>\n",
              "      <td>2</td>\n",
              "      <td>26</td>\n",
              "      <td>Wiraswasta</td>\n",
              "      <td>106856</td>\n",
              "      <td>D4</td>\n",
              "      <td>11</td>\n",
              "      <td>Belum Pernah Menikah</td>\n",
              "      <td>Pemuka Agama</td>\n",
              "      <td>Perempuan</td>\n",
              "      <td>0.0</td>\n",
              "      <td>0.0</td>\n",
              "      <td>40.0</td>\n",
              "      <td>&lt;=7jt</td>\n",
              "    </tr>\n",
              "    <tr>\n",
              "      <th>3</th>\n",
              "      <td>3</td>\n",
              "      <td>54</td>\n",
              "      <td>Pekerja Bebas Perusahaan</td>\n",
              "      <td>117674</td>\n",
              "      <td>Sarjana</td>\n",
              "      <td>13</td>\n",
              "      <td>Menikah</td>\n",
              "      <td>Sales</td>\n",
              "      <td>Laki2</td>\n",
              "      <td>0.0</td>\n",
              "      <td>0.0</td>\n",
              "      <td>40.0</td>\n",
              "      <td>&gt;7jt</td>\n",
              "    </tr>\n",
              "    <tr>\n",
              "      <th>4</th>\n",
              "      <td>4</td>\n",
              "      <td>48</td>\n",
              "      <td>Wiraswasta</td>\n",
              "      <td>268234</td>\n",
              "      <td>SMA</td>\n",
              "      <td>9</td>\n",
              "      <td>Cerai</td>\n",
              "      <td>Perbaikan Kerajinan</td>\n",
              "      <td>Laki2</td>\n",
              "      <td>0.0</td>\n",
              "      <td>0.0</td>\n",
              "      <td>50.0</td>\n",
              "      <td>&lt;=7jt</td>\n",
              "    </tr>\n",
              "  </tbody>\n",
              "</table>\n",
              "</div>"
            ],
            "text/plain": [
              "   id  Umur             Kelas Pekerja  ...  Kerugian Capital Jam per Minggu   Gaji\n",
              "0   0    40                Wiraswasta  ...               0.0           40.0   >7jt\n",
              "1   1    33          Pemerintah Lokal  ...               0.0           40.0  <=7jt\n",
              "2   2    26                Wiraswasta  ...               0.0           40.0  <=7jt\n",
              "3   3    54  Pekerja Bebas Perusahaan  ...               0.0           40.0   >7jt\n",
              "4   4    48                Wiraswasta  ...               0.0           50.0  <=7jt\n",
              "\n",
              "[5 rows x 13 columns]"
            ]
          },
          "metadata": {
            "tags": []
          },
          "execution_count": 5
        }
      ]
    },
    {
      "cell_type": "code",
      "metadata": {
        "id": "djrN5qey-CMS",
        "colab_type": "code",
        "colab": {
          "base_uri": "https://localhost:8080/",
          "height": 346
        },
        "outputId": "9638e2ae-ad36-4682-d797-d377c857e8b1"
      },
      "source": [
        "# Melihat informasi data\n",
        "df_test.info()"
      ],
      "execution_count": null,
      "outputs": [
        {
          "output_type": "stream",
          "text": [
            "<class 'pandas.core.frame.DataFrame'>\n",
            "RangeIndex: 9599 entries, 0 to 9598\n",
            "Data columns (total 12 columns):\n",
            " #   Column                 Non-Null Count  Dtype  \n",
            "---  ------                 --------------  -----  \n",
            " 0   id                     9599 non-null   int64  \n",
            " 1   Umur                   9599 non-null   int64  \n",
            " 2   Kelas Pekerja          9599 non-null   object \n",
            " 3   Berat Akhir            9599 non-null   int64  \n",
            " 4   Pendidikan             9599 non-null   object \n",
            " 5   Jmlh Tahun Pendidikan  9599 non-null   int64  \n",
            " 6   Status Perkawinan      9599 non-null   object \n",
            " 7   Pekerjaan              9599 non-null   object \n",
            " 8   Jenis Kelamin          9599 non-null   object \n",
            " 9   Keuntungan Kapital     9599 non-null   float64\n",
            " 10  Kerugian Capital       9599 non-null   float64\n",
            " 11  Jam per Minggu         9599 non-null   float64\n",
            "dtypes: float64(3), int64(4), object(5)\n",
            "memory usage: 900.0+ KB\n"
          ],
          "name": "stdout"
        }
      ]
    },
    {
      "cell_type": "code",
      "metadata": {
        "id": "0s-5Qd30-CMs",
        "colab_type": "code",
        "colab": {
          "base_uri": "https://localhost:8080/",
          "height": 364
        },
        "outputId": "9fc853a2-bfb2-41c1-9291-75ac894090b7"
      },
      "source": [
        "df_train.info()"
      ],
      "execution_count": null,
      "outputs": [
        {
          "output_type": "stream",
          "text": [
            "<class 'pandas.core.frame.DataFrame'>\n",
            "RangeIndex: 28794 entries, 0 to 28793\n",
            "Data columns (total 13 columns):\n",
            " #   Column                 Non-Null Count  Dtype  \n",
            "---  ------                 --------------  -----  \n",
            " 0   id                     28794 non-null  int64  \n",
            " 1   Umur                   28794 non-null  int64  \n",
            " 2   Kelas Pekerja          28794 non-null  object \n",
            " 3   Berat Akhir            28794 non-null  int64  \n",
            " 4   Pendidikan             28794 non-null  object \n",
            " 5   Jmlh Tahun Pendidikan  28794 non-null  int64  \n",
            " 6   Status Perkawinan      28794 non-null  object \n",
            " 7   Pekerjaan              28794 non-null  object \n",
            " 8   Jenis Kelamin          28794 non-null  object \n",
            " 9   Keuntungan Kapital     28794 non-null  float64\n",
            " 10  Kerugian Capital       28794 non-null  float64\n",
            " 11  Jam per Minggu         28794 non-null  float64\n",
            " 12  Gaji                   28794 non-null  object \n",
            "dtypes: float64(3), int64(4), object(6)\n",
            "memory usage: 2.9+ MB\n"
          ],
          "name": "stdout"
        }
      ]
    },
    {
      "cell_type": "code",
      "metadata": {
        "id": "vi3f3i72-CM1",
        "colab_type": "code",
        "colab": {
          "base_uri": "https://localhost:8080/",
          "height": 242
        },
        "outputId": "486b0a4b-52f8-433d-d848-78bd580909b8"
      },
      "source": [
        "# Melihat type data\n",
        "df_test.dtypes"
      ],
      "execution_count": null,
      "outputs": [
        {
          "output_type": "execute_result",
          "data": {
            "text/plain": [
              "id                         int64\n",
              "Umur                       int64\n",
              "Kelas Pekerja             object\n",
              "Berat Akhir                int64\n",
              "Pendidikan                object\n",
              "Jmlh Tahun Pendidikan      int64\n",
              "Status Perkawinan         object\n",
              "Pekerjaan                 object\n",
              "Jenis Kelamin             object\n",
              "Keuntungan Kapital       float64\n",
              "Kerugian Capital         float64\n",
              "Jam per Minggu           float64\n",
              "dtype: object"
            ]
          },
          "metadata": {
            "tags": []
          },
          "execution_count": 8
        }
      ]
    },
    {
      "cell_type": "code",
      "metadata": {
        "id": "jxz8KrqL-CNE",
        "colab_type": "code",
        "colab": {
          "base_uri": "https://localhost:8080/",
          "height": 260
        },
        "outputId": "093ffa36-3d9a-4ec2-e1af-ad84b1a93518"
      },
      "source": [
        "df_train.dtypes"
      ],
      "execution_count": null,
      "outputs": [
        {
          "output_type": "execute_result",
          "data": {
            "text/plain": [
              "id                         int64\n",
              "Umur                       int64\n",
              "Kelas Pekerja             object\n",
              "Berat Akhir                int64\n",
              "Pendidikan                object\n",
              "Jmlh Tahun Pendidikan      int64\n",
              "Status Perkawinan         object\n",
              "Pekerjaan                 object\n",
              "Jenis Kelamin             object\n",
              "Keuntungan Kapital       float64\n",
              "Kerugian Capital         float64\n",
              "Jam per Minggu           float64\n",
              "Gaji                      object\n",
              "dtype: object"
            ]
          },
          "metadata": {
            "tags": []
          },
          "execution_count": 9
        }
      ]
    },
    {
      "cell_type": "code",
      "metadata": {
        "id": "QeIST3tP-CNR",
        "colab_type": "code",
        "colab": {
          "base_uri": "https://localhost:8080/",
          "height": 52
        },
        "outputId": "7426f0a2-6918-4832-a9f8-a24ca9688f67"
      },
      "source": [
        "# Identifikasi data numerik dan data kategorik\n",
        "data_numerik = []\n",
        "data_kategorik = []\n",
        "for i in df_train.keys():\n",
        "    if df_train[i].dtype == 'O':\n",
        "        data_kategorik.append(i)\n",
        "    else:\n",
        "        data_numerik.append(i)\n",
        "print('data_kategorik =', data_kategorik)\n",
        "print('data_numerik =', data_numerik)"
      ],
      "execution_count": null,
      "outputs": [
        {
          "output_type": "stream",
          "text": [
            "data_kategorik = ['Kelas Pekerja', 'Pendidikan', 'Status Perkawinan', 'Pekerjaan', 'Jenis Kelamin', 'Gaji']\n",
            "data_numerik = ['id', 'Umur', 'Berat Akhir', 'Jmlh Tahun Pendidikan', 'Keuntungan Kapital', 'Kerugian Capital', 'Jam per Minggu']\n"
          ],
          "name": "stdout"
        }
      ]
    },
    {
      "cell_type": "code",
      "metadata": {
        "id": "pnjXX6wo-CNY",
        "colab_type": "code",
        "colab": {
          "base_uri": "https://localhost:8080/",
          "height": 52
        },
        "outputId": "461497a7-617f-4225-aef0-3d9da7fca0c2"
      },
      "source": [
        "data_numerik = []\n",
        "data_kategorik = []\n",
        "for i in df_test.keys():\n",
        "    if df_test[i].dtype == 'O':\n",
        "        data_kategorik.append(i)\n",
        "    else:\n",
        "        data_numerik.append(i)\n",
        "print('data_kategorik =', data_kategorik)\n",
        "print('data_numerik =', data_numerik)"
      ],
      "execution_count": null,
      "outputs": [
        {
          "output_type": "stream",
          "text": [
            "data_kategorik = ['Kelas Pekerja', 'Pendidikan', 'Status Perkawinan', 'Pekerjaan', 'Jenis Kelamin']\n",
            "data_numerik = ['id', 'Umur', 'Berat Akhir', 'Jmlh Tahun Pendidikan', 'Keuntungan Kapital', 'Kerugian Capital', 'Jam per Minggu']\n"
          ],
          "name": "stdout"
        }
      ]
    },
    {
      "cell_type": "code",
      "metadata": {
        "id": "HDWYJRrk-CNn",
        "colab_type": "code",
        "colab": {
          "base_uri": "https://localhost:8080/",
          "height": 124
        },
        "outputId": "738614f6-0245-4981-c6d4-9e616d495e16"
      },
      "source": [
        "# Mengetahui nilai yang berbeda di setiap kolom dengan data kategorik\n",
        "for i in df_train.keys():\n",
        "    if i in data_kategorik:\n",
        "        print(f'{i} :',set(df_train[i]))"
      ],
      "execution_count": null,
      "outputs": [
        {
          "output_type": "stream",
          "text": [
            "Kelas Pekerja : {'Pekerja Bebas Perusahaan', 'Wiraswasta', 'Pemerintah Lokal', 'Pemerintah Negara', 'Tanpa di Bayar', 'Pekerja Bebas Bukan Perusahan', '?', 'Tidak Pernah Bekerja', 'Pemerintah Provinsi'}\n",
            "Pendidikan : {'10th', '11th', '7th-8th', 'D3', '5th-6th', 'SD', 'SMA', 'Sarjana', '12th', 'Pendidikan Tinggi', 'D4', 'Doktor', '9th', '1st-4th', 'Master', 'Sekolah Professional'}\n",
            "Status Perkawinan : {'Cerai', 'Belum Pernah Menikah', 'Janda', 'Berpisah', 'Menikah LDR', 'Menikah'}\n",
            "Pekerjaan : {'Ekesekutif Managerial', 'Pemuka Agama', '?', 'Tentara', 'Asisten Rumah Tangga', 'Penjaga', 'Pembersih', 'Mesin Inspeksi', 'Tech-support', 'Perbaikan Kerajinan', 'Petani', 'Spesialis', 'Sales', 'Servis Lainnya', 'Supir'}\n",
            "Jenis Kelamin : {'Perempuan', 'Laki2'}\n"
          ],
          "name": "stdout"
        }
      ]
    },
    {
      "cell_type": "code",
      "metadata": {
        "id": "jiuqqvEg-CNx",
        "colab_type": "code",
        "colab": {
          "base_uri": "https://localhost:8080/",
          "height": 124
        },
        "outputId": "23325e73-655a-434e-d1f7-12f1d9cd5fa9"
      },
      "source": [
        "for i in df_test.keys():\n",
        "    if i in data_kategorik:\n",
        "        print(f'{i} :',set(df_test[i]))"
      ],
      "execution_count": null,
      "outputs": [
        {
          "output_type": "stream",
          "text": [
            "Kelas Pekerja : {'Pekerja Bebas Perusahaan', 'Wiraswasta', 'Pemerintah Lokal', 'Pemerintah Negara', 'Tanpa di Bayar', 'Pekerja Bebas Bukan Perusahan', '?', 'Tidak Pernah Bekerja', 'Pemerintah Provinsi'}\n",
            "Pendidikan : {'11th', '10th', '1st-4th', '7th-8th', 'D3', '5th-6th', 'SD', 'SMA', 'Sarjana', 'Pendidikan Tinggi', 'D4', 'Doktor', '9th', '12th', 'Master', 'Sekolah Professional'}\n",
            "Status Perkawinan : {'Cerai', 'Belum Pernah Menikah', 'Janda', 'Berpisah', 'Menikah LDR', 'Menikah'}\n",
            "Pekerjaan : {'Ekesekutif Managerial', 'Pemuka Agama', '?', 'Tentara', 'Asisten Rumah Tangga', 'Penjaga', 'Mesin Inspeksi', 'Pembersih', 'Tech-support', 'Perbaikan Kerajinan', 'Petani', 'Spesialis', 'Sales', 'Servis Lainnya', 'Supir'}\n",
            "Jenis Kelamin : {'Perempuan', 'Laki2'}\n"
          ],
          "name": "stdout"
        }
      ]
    },
    {
      "cell_type": "code",
      "metadata": {
        "id": "6st_SIRn-CN4",
        "colab_type": "code",
        "colab": {}
      },
      "source": [
        "# Mengganti nilai '?' menjadi NaN\n",
        "df_train = df_train.replace('?', np.nan)"
      ],
      "execution_count": null,
      "outputs": []
    },
    {
      "cell_type": "code",
      "metadata": {
        "id": "rSL7xnYb-COC",
        "colab_type": "code",
        "colab": {}
      },
      "source": [
        "df_test = df_test.replace('?', np.nan)"
      ],
      "execution_count": null,
      "outputs": []
    },
    {
      "cell_type": "code",
      "metadata": {
        "id": "K_X3eE8L-COP",
        "colab_type": "code",
        "colab": {
          "base_uri": "https://localhost:8080/",
          "height": 260
        },
        "outputId": "9e6f3792-bd13-424e-d743-8c052fcc8428"
      },
      "source": [
        "# Mengecek jumlah data Null\n",
        "df_train.isnull().sum()"
      ],
      "execution_count": null,
      "outputs": [
        {
          "output_type": "execute_result",
          "data": {
            "text/plain": [
              "id                          0\n",
              "Umur                        0\n",
              "Kelas Pekerja            1660\n",
              "Berat Akhir                 0\n",
              "Pendidikan                  0\n",
              "Jmlh Tahun Pendidikan       0\n",
              "Status Perkawinan           0\n",
              "Pekerjaan                1665\n",
              "Jenis Kelamin               0\n",
              "Keuntungan Kapital          0\n",
              "Kerugian Capital            0\n",
              "Jam per Minggu              0\n",
              "Gaji                        0\n",
              "dtype: int64"
            ]
          },
          "metadata": {
            "tags": []
          },
          "execution_count": 16
        }
      ]
    },
    {
      "cell_type": "code",
      "metadata": {
        "id": "Jc2eot-g-COZ",
        "colab_type": "code",
        "colab": {
          "base_uri": "https://localhost:8080/",
          "height": 242
        },
        "outputId": "3bfa35e0-7ad4-474f-88e4-1a938c7bfac2"
      },
      "source": [
        "df_test.isnull().sum()"
      ],
      "execution_count": null,
      "outputs": [
        {
          "output_type": "execute_result",
          "data": {
            "text/plain": [
              "id                         0\n",
              "Umur                       0\n",
              "Kelas Pekerja            544\n",
              "Berat Akhir                0\n",
              "Pendidikan                 0\n",
              "Jmlh Tahun Pendidikan      0\n",
              "Status Perkawinan          0\n",
              "Pekerjaan                545\n",
              "Jenis Kelamin              0\n",
              "Keuntungan Kapital         0\n",
              "Kerugian Capital           0\n",
              "Jam per Minggu             0\n",
              "dtype: int64"
            ]
          },
          "metadata": {
            "tags": []
          },
          "execution_count": 17
        }
      ]
    },
    {
      "cell_type": "code",
      "metadata": {
        "id": "dp3gB4jl-COo",
        "colab_type": "code",
        "colab": {}
      },
      "source": [
        "# Mengganti nilai data nan dengan mode\n",
        "df_train['Kelas Pekerja'] = df_train['Kelas Pekerja'].replace(np.nan, df_train.mode(axis=0).loc[0]['Kelas Pekerja'])\n",
        "df_train['Pekerjaan'] = df_train['Pekerjaan'].replace(np.nan, df_train.mode(axis=0).loc[0]['Pekerjaan'])"
      ],
      "execution_count": null,
      "outputs": []
    },
    {
      "cell_type": "code",
      "metadata": {
        "id": "2VwWWYx7-COz",
        "colab_type": "code",
        "colab": {}
      },
      "source": [
        "df_test['Kelas Pekerja'] = df_test['Kelas Pekerja'].replace(np.nan, df_test.mode(axis=0).loc[0]['Kelas Pekerja'])\n",
        "df_test['Pekerjaan'] = df_test['Pekerjaan'].replace(np.nan, df_test.mode(axis=0).loc[0]['Pekerjaan'])"
      ],
      "execution_count": null,
      "outputs": []
    },
    {
      "cell_type": "code",
      "metadata": {
        "id": "HNMK9ZWy-CO4",
        "colab_type": "code",
        "colab": {
          "base_uri": "https://localhost:8080/",
          "height": 202
        },
        "outputId": "5fae3438-fa11-408d-c584-dde5649ad281"
      },
      "source": [
        "# Memformat ulang kolom data kategorik\n",
        "df_train['Kelas Pekerja']=df_train['Kelas Pekerja'].replace({'Tidak Pernah Bekerja':0, 'Tanpa di Bayar':1, 'Pekerja Bebas Bukan Perusahan':2,\n",
        "                                                    'Wiraswasta':3, 'Pekerja Bebas Perusahaan':4, 'Pemerintah Lokal':5,\n",
        "                                                    'Pemerintah Provinsi':6, 'Pemerintah Negara':7})\n",
        "df_train['Pendidikan']=df_train['Pendidikan'].replace({'1st-4th':0, '5th-6th':1,  'SD':2, '7th-8th':3, '9th':4, '10th':5,\n",
        "                                                 '11th':6, '12th':7, 'SMA':8, 'Sekolah Professional':9, 'Pendidikan Tinggi':10,\n",
        "                                                 'D3':11, 'D4':12, 'Sarjana':13, 'Master':14, 'Doktor':15})\n",
        "df_train['Pekerjaan']=df_train['Pekerjaan'].replace({'Pembersih':1, 'Asisten Rumah Tangga':2, 'Penjaga':3, 'Supir':4, 'Perbaikan Kerajinan':5,\n",
        "                                                'Servis Lainnya':6, 'Petani':7, 'Pemuka Agama':8, 'Sales':9, 'Tech-support':10,\n",
        "                                                'Mesin Inspeksi':11, 'Tentara':12, 'Spesialis':13, 'Ekesekutif Managerial':14})\n",
        "df_train['Gaji']=df_train['Gaji'].replace({'<=7jt': 0, '>7jt': 1})\n",
        "df_train['Status Perkawinan']=df_train['Status Perkawinan'].replace({'Menikah LDR':0, 'Menikah':1, 'Belum Pernah Menikah':2,\n",
        "                                                                     'Cerai':3, 'Janda':4, 'Berpisah':5})\n",
        "df_train['Jenis Kelamin']=df_train['Jenis Kelamin'].replace({'Laki2': 0, 'Perempuan': 1})\n",
        "\n",
        "# menghapus kolom id\n",
        "df_train = df_train.drop(['id'], axis=1)\n",
        "\n",
        "df_train.head()"
      ],
      "execution_count": null,
      "outputs": [
        {
          "output_type": "execute_result",
          "data": {
            "text/html": [
              "<div>\n",
              "<style scoped>\n",
              "    .dataframe tbody tr th:only-of-type {\n",
              "        vertical-align: middle;\n",
              "    }\n",
              "\n",
              "    .dataframe tbody tr th {\n",
              "        vertical-align: top;\n",
              "    }\n",
              "\n",
              "    .dataframe thead th {\n",
              "        text-align: right;\n",
              "    }\n",
              "</style>\n",
              "<table border=\"1\" class=\"dataframe\">\n",
              "  <thead>\n",
              "    <tr style=\"text-align: right;\">\n",
              "      <th></th>\n",
              "      <th>Umur</th>\n",
              "      <th>Kelas Pekerja</th>\n",
              "      <th>Berat Akhir</th>\n",
              "      <th>Pendidikan</th>\n",
              "      <th>Jmlh Tahun Pendidikan</th>\n",
              "      <th>Status Perkawinan</th>\n",
              "      <th>Pekerjaan</th>\n",
              "      <th>Jenis Kelamin</th>\n",
              "      <th>Keuntungan Kapital</th>\n",
              "      <th>Kerugian Capital</th>\n",
              "      <th>Jam per Minggu</th>\n",
              "      <th>Gaji</th>\n",
              "    </tr>\n",
              "  </thead>\n",
              "  <tbody>\n",
              "    <tr>\n",
              "      <th>0</th>\n",
              "      <td>40</td>\n",
              "      <td>3</td>\n",
              "      <td>205047</td>\n",
              "      <td>8</td>\n",
              "      <td>9</td>\n",
              "      <td>0</td>\n",
              "      <td>5</td>\n",
              "      <td>0</td>\n",
              "      <td>0.0</td>\n",
              "      <td>0.0</td>\n",
              "      <td>40.0</td>\n",
              "      <td>1</td>\n",
              "    </tr>\n",
              "    <tr>\n",
              "      <th>1</th>\n",
              "      <td>33</td>\n",
              "      <td>5</td>\n",
              "      <td>298785</td>\n",
              "      <td>5</td>\n",
              "      <td>6</td>\n",
              "      <td>3</td>\n",
              "      <td>4</td>\n",
              "      <td>0</td>\n",
              "      <td>0.0</td>\n",
              "      <td>0.0</td>\n",
              "      <td>40.0</td>\n",
              "      <td>0</td>\n",
              "    </tr>\n",
              "    <tr>\n",
              "      <th>2</th>\n",
              "      <td>26</td>\n",
              "      <td>3</td>\n",
              "      <td>106856</td>\n",
              "      <td>12</td>\n",
              "      <td>11</td>\n",
              "      <td>2</td>\n",
              "      <td>8</td>\n",
              "      <td>1</td>\n",
              "      <td>0.0</td>\n",
              "      <td>0.0</td>\n",
              "      <td>40.0</td>\n",
              "      <td>0</td>\n",
              "    </tr>\n",
              "    <tr>\n",
              "      <th>3</th>\n",
              "      <td>54</td>\n",
              "      <td>4</td>\n",
              "      <td>117674</td>\n",
              "      <td>13</td>\n",
              "      <td>13</td>\n",
              "      <td>1</td>\n",
              "      <td>9</td>\n",
              "      <td>0</td>\n",
              "      <td>0.0</td>\n",
              "      <td>0.0</td>\n",
              "      <td>40.0</td>\n",
              "      <td>1</td>\n",
              "    </tr>\n",
              "    <tr>\n",
              "      <th>4</th>\n",
              "      <td>48</td>\n",
              "      <td>3</td>\n",
              "      <td>268234</td>\n",
              "      <td>8</td>\n",
              "      <td>9</td>\n",
              "      <td>3</td>\n",
              "      <td>5</td>\n",
              "      <td>0</td>\n",
              "      <td>0.0</td>\n",
              "      <td>0.0</td>\n",
              "      <td>50.0</td>\n",
              "      <td>0</td>\n",
              "    </tr>\n",
              "  </tbody>\n",
              "</table>\n",
              "</div>"
            ],
            "text/plain": [
              "   Umur  Kelas Pekerja  Berat Akhir  ...  Kerugian Capital  Jam per Minggu  Gaji\n",
              "0    40              3       205047  ...               0.0            40.0     1\n",
              "1    33              5       298785  ...               0.0            40.0     0\n",
              "2    26              3       106856  ...               0.0            40.0     0\n",
              "3    54              4       117674  ...               0.0            40.0     1\n",
              "4    48              3       268234  ...               0.0            50.0     0\n",
              "\n",
              "[5 rows x 12 columns]"
            ]
          },
          "metadata": {
            "tags": []
          },
          "execution_count": 20
        }
      ]
    },
    {
      "cell_type": "code",
      "metadata": {
        "id": "O6Ij-k4Y-CPI",
        "colab_type": "code",
        "colab": {
          "base_uri": "https://localhost:8080/",
          "height": 202
        },
        "outputId": "4faf9417-2198-47fe-9860-035d206493fa"
      },
      "source": [
        "df_test['Kelas Pekerja']=df_test['Kelas Pekerja'].replace({'Tidak Pernah Bekerja':0, 'Tanpa di Bayar':1, 'Pekerja Bebas Bukan Perusahan':2,\n",
        "                                                    'Wiraswasta':3, 'Pekerja Bebas Perusahaan':4, 'Pemerintah Lokal':5,\n",
        "                                                    'Pemerintah Provinsi':6, 'Pemerintah Negara':7})\n",
        "df_test['Pendidikan']=df_test['Pendidikan'].replace({'1st-4th':0, '5th-6th':1,  'SD':2, '7th-8th':3, '9th':4, '10th':5,\n",
        "                                                 '11th':6, '12th':7, 'SMA':8, 'Sekolah Professional':9, 'Pendidikan Tinggi':10,\n",
        "                                                 'D3':11, 'D4':12, 'Sarjana':13, 'Master':14, 'Doktor':15})\n",
        "df_test['Pekerjaan']=df_test['Pekerjaan'].replace({'Pembersih':1, 'Asisten Rumah Tangga':2, 'Penjaga':3, 'Supir':4, 'Perbaikan Kerajinan':5,\n",
        "                                                'Servis Lainnya':6, 'Petani':7, 'Pemuka Agama':8, 'Sales':9, 'Tech-support':10,\n",
        "                                                'Mesin Inspeksi':11, 'Tentara':12, 'Spesialis':13, 'Ekesekutif Managerial':14})\n",
        "df_test['Status Perkawinan']=df_test['Status Perkawinan'].replace({'Menikah LDR':0, 'Menikah':1, 'Belum Pernah Menikah':2,\n",
        "                                                                     'Cerai':3, 'Janda':4, 'Berpisah':5})\n",
        "df_test['Jenis Kelamin']=df_test['Jenis Kelamin'].replace({'Laki2': 0, 'Perempuan': 1})\n",
        "\n",
        "# menghapus kolom id\n",
        "df_test = df_test.drop(['id'], axis=1)\n",
        "\n",
        "df_test.head()"
      ],
      "execution_count": null,
      "outputs": [
        {
          "output_type": "execute_result",
          "data": {
            "text/html": [
              "<div>\n",
              "<style scoped>\n",
              "    .dataframe tbody tr th:only-of-type {\n",
              "        vertical-align: middle;\n",
              "    }\n",
              "\n",
              "    .dataframe tbody tr th {\n",
              "        vertical-align: top;\n",
              "    }\n",
              "\n",
              "    .dataframe thead th {\n",
              "        text-align: right;\n",
              "    }\n",
              "</style>\n",
              "<table border=\"1\" class=\"dataframe\">\n",
              "  <thead>\n",
              "    <tr style=\"text-align: right;\">\n",
              "      <th></th>\n",
              "      <th>Umur</th>\n",
              "      <th>Kelas Pekerja</th>\n",
              "      <th>Berat Akhir</th>\n",
              "      <th>Pendidikan</th>\n",
              "      <th>Jmlh Tahun Pendidikan</th>\n",
              "      <th>Status Perkawinan</th>\n",
              "      <th>Pekerjaan</th>\n",
              "      <th>Jenis Kelamin</th>\n",
              "      <th>Keuntungan Kapital</th>\n",
              "      <th>Kerugian Capital</th>\n",
              "      <th>Jam per Minggu</th>\n",
              "    </tr>\n",
              "  </thead>\n",
              "  <tbody>\n",
              "    <tr>\n",
              "      <th>0</th>\n",
              "      <td>31</td>\n",
              "      <td>6</td>\n",
              "      <td>207301</td>\n",
              "      <td>8</td>\n",
              "      <td>9</td>\n",
              "      <td>1</td>\n",
              "      <td>8</td>\n",
              "      <td>1</td>\n",
              "      <td>0.0</td>\n",
              "      <td>0.0</td>\n",
              "      <td>40.0</td>\n",
              "    </tr>\n",
              "    <tr>\n",
              "      <th>1</th>\n",
              "      <td>34</td>\n",
              "      <td>3</td>\n",
              "      <td>324254</td>\n",
              "      <td>8</td>\n",
              "      <td>9</td>\n",
              "      <td>1</td>\n",
              "      <td>11</td>\n",
              "      <td>0</td>\n",
              "      <td>0.0</td>\n",
              "      <td>0.0</td>\n",
              "      <td>40.0</td>\n",
              "    </tr>\n",
              "    <tr>\n",
              "      <th>2</th>\n",
              "      <td>58</td>\n",
              "      <td>3</td>\n",
              "      <td>27385</td>\n",
              "      <td>8</td>\n",
              "      <td>9</td>\n",
              "      <td>1</td>\n",
              "      <td>14</td>\n",
              "      <td>0</td>\n",
              "      <td>0.0</td>\n",
              "      <td>0.0</td>\n",
              "      <td>60.0</td>\n",
              "    </tr>\n",
              "    <tr>\n",
              "      <th>3</th>\n",
              "      <td>49</td>\n",
              "      <td>3</td>\n",
              "      <td>723746</td>\n",
              "      <td>8</td>\n",
              "      <td>9</td>\n",
              "      <td>1</td>\n",
              "      <td>5</td>\n",
              "      <td>0</td>\n",
              "      <td>0.0</td>\n",
              "      <td>0.0</td>\n",
              "      <td>43.0</td>\n",
              "    </tr>\n",
              "    <tr>\n",
              "      <th>4</th>\n",
              "      <td>60</td>\n",
              "      <td>3</td>\n",
              "      <td>194980</td>\n",
              "      <td>8</td>\n",
              "      <td>9</td>\n",
              "      <td>5</td>\n",
              "      <td>8</td>\n",
              "      <td>1</td>\n",
              "      <td>0.0</td>\n",
              "      <td>0.0</td>\n",
              "      <td>20.0</td>\n",
              "    </tr>\n",
              "  </tbody>\n",
              "</table>\n",
              "</div>"
            ],
            "text/plain": [
              "   Umur  Kelas Pekerja  ...  Kerugian Capital  Jam per Minggu\n",
              "0    31              6  ...               0.0            40.0\n",
              "1    34              3  ...               0.0            40.0\n",
              "2    58              3  ...               0.0            60.0\n",
              "3    49              3  ...               0.0            43.0\n",
              "4    60              3  ...               0.0            20.0\n",
              "\n",
              "[5 rows x 11 columns]"
            ]
          },
          "metadata": {
            "tags": []
          },
          "execution_count": 21
        }
      ]
    },
    {
      "cell_type": "code",
      "metadata": {
        "id": "2J1jWXEn-CPX",
        "colab_type": "code",
        "colab": {
          "base_uri": "https://localhost:8080/",
          "height": 312
        },
        "outputId": "ea67b691-89dc-4259-f5b7-4c94c414bb59"
      },
      "source": [
        "# melihat statistika deskriptif pada data\n",
        "df_train.describe()"
      ],
      "execution_count": null,
      "outputs": [
        {
          "output_type": "execute_result",
          "data": {
            "text/html": [
              "<div>\n",
              "<style scoped>\n",
              "    .dataframe tbody tr th:only-of-type {\n",
              "        vertical-align: middle;\n",
              "    }\n",
              "\n",
              "    .dataframe tbody tr th {\n",
              "        vertical-align: top;\n",
              "    }\n",
              "\n",
              "    .dataframe thead th {\n",
              "        text-align: right;\n",
              "    }\n",
              "</style>\n",
              "<table border=\"1\" class=\"dataframe\">\n",
              "  <thead>\n",
              "    <tr style=\"text-align: right;\">\n",
              "      <th></th>\n",
              "      <th>Umur</th>\n",
              "      <th>Kelas Pekerja</th>\n",
              "      <th>Berat Akhir</th>\n",
              "      <th>Pendidikan</th>\n",
              "      <th>Jmlh Tahun Pendidikan</th>\n",
              "      <th>Status Perkawinan</th>\n",
              "      <th>Pekerjaan</th>\n",
              "      <th>Jenis Kelamin</th>\n",
              "      <th>Keuntungan Kapital</th>\n",
              "      <th>Kerugian Capital</th>\n",
              "      <th>Jam per Minggu</th>\n",
              "      <th>Gaji</th>\n",
              "    </tr>\n",
              "  </thead>\n",
              "  <tbody>\n",
              "    <tr>\n",
              "      <th>count</th>\n",
              "      <td>28794.000000</td>\n",
              "      <td>28794.000000</td>\n",
              "      <td>2.879400e+04</td>\n",
              "      <td>28794.000000</td>\n",
              "      <td>28794.000000</td>\n",
              "      <td>28794.000000</td>\n",
              "      <td>28794.000000</td>\n",
              "      <td>28794.000000</td>\n",
              "      <td>2.879400e+04</td>\n",
              "      <td>2.879400e+04</td>\n",
              "      <td>28794.000000</td>\n",
              "      <td>28794.000000</td>\n",
              "    </tr>\n",
              "    <tr>\n",
              "      <th>mean</th>\n",
              "      <td>38.557095</td>\n",
              "      <td>3.331701</td>\n",
              "      <td>1.897640e+05</td>\n",
              "      <td>9.502014</td>\n",
              "      <td>10.075919</td>\n",
              "      <td>1.806036</td>\n",
              "      <td>8.815969</td>\n",
              "      <td>0.333646</td>\n",
              "      <td>1.547702e+07</td>\n",
              "      <td>1.221002e+06</td>\n",
              "      <td>40.398555</td>\n",
              "      <td>0.236890</td>\n",
              "    </tr>\n",
              "    <tr>\n",
              "      <th>std</th>\n",
              "      <td>13.668667</td>\n",
              "      <td>1.081619</td>\n",
              "      <td>1.047810e+05</td>\n",
              "      <td>2.876535</td>\n",
              "      <td>2.561954</td>\n",
              "      <td>1.008485</td>\n",
              "      <td>3.785187</td>\n",
              "      <td>0.471523</td>\n",
              "      <td>1.063346e+08</td>\n",
              "      <td>5.633757e+06</td>\n",
              "      <td>12.371845</td>\n",
              "      <td>0.425181</td>\n",
              "    </tr>\n",
              "    <tr>\n",
              "      <th>min</th>\n",
              "      <td>17.000000</td>\n",
              "      <td>0.000000</td>\n",
              "      <td>1.349200e+04</td>\n",
              "      <td>0.000000</td>\n",
              "      <td>1.000000</td>\n",
              "      <td>0.000000</td>\n",
              "      <td>1.000000</td>\n",
              "      <td>0.000000</td>\n",
              "      <td>0.000000e+00</td>\n",
              "      <td>0.000000e+00</td>\n",
              "      <td>1.000000</td>\n",
              "      <td>0.000000</td>\n",
              "    </tr>\n",
              "    <tr>\n",
              "      <th>25%</th>\n",
              "      <td>28.000000</td>\n",
              "      <td>3.000000</td>\n",
              "      <td>1.178668e+05</td>\n",
              "      <td>8.000000</td>\n",
              "      <td>9.000000</td>\n",
              "      <td>1.000000</td>\n",
              "      <td>6.000000</td>\n",
              "      <td>0.000000</td>\n",
              "      <td>0.000000e+00</td>\n",
              "      <td>0.000000e+00</td>\n",
              "      <td>40.000000</td>\n",
              "      <td>0.000000</td>\n",
              "    </tr>\n",
              "    <tr>\n",
              "      <th>50%</th>\n",
              "      <td>37.000000</td>\n",
              "      <td>3.000000</td>\n",
              "      <td>1.785235e+05</td>\n",
              "      <td>10.000000</td>\n",
              "      <td>10.000000</td>\n",
              "      <td>2.000000</td>\n",
              "      <td>9.000000</td>\n",
              "      <td>0.000000</td>\n",
              "      <td>0.000000e+00</td>\n",
              "      <td>0.000000e+00</td>\n",
              "      <td>40.000000</td>\n",
              "      <td>0.000000</td>\n",
              "    </tr>\n",
              "    <tr>\n",
              "      <th>75%</th>\n",
              "      <td>48.000000</td>\n",
              "      <td>3.000000</td>\n",
              "      <td>2.373860e+05</td>\n",
              "      <td>12.000000</td>\n",
              "      <td>12.000000</td>\n",
              "      <td>2.000000</td>\n",
              "      <td>13.000000</td>\n",
              "      <td>1.000000</td>\n",
              "      <td>0.000000e+00</td>\n",
              "      <td>0.000000e+00</td>\n",
              "      <td>45.000000</td>\n",
              "      <td>0.000000</td>\n",
              "    </tr>\n",
              "    <tr>\n",
              "      <th>max</th>\n",
              "      <td>90.000000</td>\n",
              "      <td>7.000000</td>\n",
              "      <td>1.490400e+06</td>\n",
              "      <td>15.000000</td>\n",
              "      <td>16.000000</td>\n",
              "      <td>5.000000</td>\n",
              "      <td>14.000000</td>\n",
              "      <td>1.000000</td>\n",
              "      <td>1.399986e+09</td>\n",
              "      <td>6.098400e+07</td>\n",
              "      <td>99.000000</td>\n",
              "      <td>1.000000</td>\n",
              "    </tr>\n",
              "  </tbody>\n",
              "</table>\n",
              "</div>"
            ],
            "text/plain": [
              "               Umur  Kelas Pekerja  ...  Jam per Minggu          Gaji\n",
              "count  28794.000000   28794.000000  ...    28794.000000  28794.000000\n",
              "mean      38.557095       3.331701  ...       40.398555      0.236890\n",
              "std       13.668667       1.081619  ...       12.371845      0.425181\n",
              "min       17.000000       0.000000  ...        1.000000      0.000000\n",
              "25%       28.000000       3.000000  ...       40.000000      0.000000\n",
              "50%       37.000000       3.000000  ...       40.000000      0.000000\n",
              "75%       48.000000       3.000000  ...       45.000000      0.000000\n",
              "max       90.000000       7.000000  ...       99.000000      1.000000\n",
              "\n",
              "[8 rows x 12 columns]"
            ]
          },
          "metadata": {
            "tags": []
          },
          "execution_count": 22
        }
      ]
    },
    {
      "cell_type": "code",
      "metadata": {
        "id": "EzL8zPN--CPj",
        "colab_type": "code",
        "colab": {
          "base_uri": "https://localhost:8080/",
          "height": 312
        },
        "outputId": "0cb4f625-a583-4efd-8264-222c342f1bff"
      },
      "source": [
        "df_test.describe()"
      ],
      "execution_count": null,
      "outputs": [
        {
          "output_type": "execute_result",
          "data": {
            "text/html": [
              "<div>\n",
              "<style scoped>\n",
              "    .dataframe tbody tr th:only-of-type {\n",
              "        vertical-align: middle;\n",
              "    }\n",
              "\n",
              "    .dataframe tbody tr th {\n",
              "        vertical-align: top;\n",
              "    }\n",
              "\n",
              "    .dataframe thead th {\n",
              "        text-align: right;\n",
              "    }\n",
              "</style>\n",
              "<table border=\"1\" class=\"dataframe\">\n",
              "  <thead>\n",
              "    <tr style=\"text-align: right;\">\n",
              "      <th></th>\n",
              "      <th>Umur</th>\n",
              "      <th>Kelas Pekerja</th>\n",
              "      <th>Berat Akhir</th>\n",
              "      <th>Pendidikan</th>\n",
              "      <th>Jmlh Tahun Pendidikan</th>\n",
              "      <th>Status Perkawinan</th>\n",
              "      <th>Pekerjaan</th>\n",
              "      <th>Jenis Kelamin</th>\n",
              "      <th>Keuntungan Kapital</th>\n",
              "      <th>Kerugian Capital</th>\n",
              "      <th>Jam per Minggu</th>\n",
              "    </tr>\n",
              "  </thead>\n",
              "  <tbody>\n",
              "    <tr>\n",
              "      <th>count</th>\n",
              "      <td>9599.000000</td>\n",
              "      <td>9599.000000</td>\n",
              "      <td>9.599000e+03</td>\n",
              "      <td>9599.000000</td>\n",
              "      <td>9599.000000</td>\n",
              "      <td>9599.000000</td>\n",
              "      <td>9599.000000</td>\n",
              "      <td>9599.000000</td>\n",
              "      <td>9.599000e+03</td>\n",
              "      <td>9.599000e+03</td>\n",
              "      <td>9599.000000</td>\n",
              "    </tr>\n",
              "    <tr>\n",
              "      <th>mean</th>\n",
              "      <td>39.024378</td>\n",
              "      <td>3.341702</td>\n",
              "      <td>1.896029e+05</td>\n",
              "      <td>9.526930</td>\n",
              "      <td>10.103552</td>\n",
              "      <td>1.798521</td>\n",
              "      <td>8.329722</td>\n",
              "      <td>0.320658</td>\n",
              "      <td>1.431539e+07</td>\n",
              "      <td>1.187658e+06</td>\n",
              "      <td>40.566830</td>\n",
              "    </tr>\n",
              "    <tr>\n",
              "      <th>std</th>\n",
              "      <td>13.767176</td>\n",
              "      <td>1.108475</td>\n",
              "      <td>1.079328e+05</td>\n",
              "      <td>2.920863</td>\n",
              "      <td>2.611966</td>\n",
              "      <td>1.005835</td>\n",
              "      <td>3.752494</td>\n",
              "      <td>0.466754</td>\n",
              "      <td>9.852723e+07</td>\n",
              "      <td>5.554308e+06</td>\n",
              "      <td>12.414974</td>\n",
              "    </tr>\n",
              "    <tr>\n",
              "      <th>min</th>\n",
              "      <td>17.000000</td>\n",
              "      <td>0.000000</td>\n",
              "      <td>1.228500e+04</td>\n",
              "      <td>0.000000</td>\n",
              "      <td>1.000000</td>\n",
              "      <td>0.000000</td>\n",
              "      <td>1.000000</td>\n",
              "      <td>0.000000</td>\n",
              "      <td>0.000000e+00</td>\n",
              "      <td>0.000000e+00</td>\n",
              "      <td>1.000000</td>\n",
              "    </tr>\n",
              "    <tr>\n",
              "      <th>25%</th>\n",
              "      <td>28.000000</td>\n",
              "      <td>3.000000</td>\n",
              "      <td>1.171600e+05</td>\n",
              "      <td>8.000000</td>\n",
              "      <td>9.000000</td>\n",
              "      <td>1.000000</td>\n",
              "      <td>5.000000</td>\n",
              "      <td>0.000000</td>\n",
              "      <td>0.000000e+00</td>\n",
              "      <td>0.000000e+00</td>\n",
              "      <td>40.000000</td>\n",
              "    </tr>\n",
              "    <tr>\n",
              "      <th>50%</th>\n",
              "      <td>38.000000</td>\n",
              "      <td>3.000000</td>\n",
              "      <td>1.778390e+05</td>\n",
              "      <td>10.000000</td>\n",
              "      <td>10.000000</td>\n",
              "      <td>2.000000</td>\n",
              "      <td>8.000000</td>\n",
              "      <td>0.000000</td>\n",
              "      <td>0.000000e+00</td>\n",
              "      <td>0.000000e+00</td>\n",
              "      <td>40.000000</td>\n",
              "    </tr>\n",
              "    <tr>\n",
              "      <th>75%</th>\n",
              "      <td>48.000000</td>\n",
              "      <td>3.000000</td>\n",
              "      <td>2.383485e+05</td>\n",
              "      <td>12.000000</td>\n",
              "      <td>13.000000</td>\n",
              "      <td>2.000000</td>\n",
              "      <td>13.000000</td>\n",
              "      <td>1.000000</td>\n",
              "      <td>0.000000e+00</td>\n",
              "      <td>0.000000e+00</td>\n",
              "      <td>45.000000</td>\n",
              "    </tr>\n",
              "    <tr>\n",
              "      <th>max</th>\n",
              "      <td>90.000000</td>\n",
              "      <td>7.000000</td>\n",
              "      <td>1.484705e+06</td>\n",
              "      <td>15.000000</td>\n",
              "      <td>16.000000</td>\n",
              "      <td>5.000000</td>\n",
              "      <td>14.000000</td>\n",
              "      <td>1.000000</td>\n",
              "      <td>1.399986e+09</td>\n",
              "      <td>5.278000e+07</td>\n",
              "      <td>99.000000</td>\n",
              "    </tr>\n",
              "  </tbody>\n",
              "</table>\n",
              "</div>"
            ],
            "text/plain": [
              "              Umur  Kelas Pekerja  ...  Kerugian Capital  Jam per Minggu\n",
              "count  9599.000000    9599.000000  ...      9.599000e+03     9599.000000\n",
              "mean     39.024378       3.341702  ...      1.187658e+06       40.566830\n",
              "std      13.767176       1.108475  ...      5.554308e+06       12.414974\n",
              "min      17.000000       0.000000  ...      0.000000e+00        1.000000\n",
              "25%      28.000000       3.000000  ...      0.000000e+00       40.000000\n",
              "50%      38.000000       3.000000  ...      0.000000e+00       40.000000\n",
              "75%      48.000000       3.000000  ...      0.000000e+00       45.000000\n",
              "max      90.000000       7.000000  ...      5.278000e+07       99.000000\n",
              "\n",
              "[8 rows x 11 columns]"
            ]
          },
          "metadata": {
            "tags": []
          },
          "execution_count": 23
        }
      ]
    },
    {
      "cell_type": "code",
      "metadata": {
        "id": "f2vG60Ph-CPq",
        "colab_type": "code",
        "colab": {
          "base_uri": "https://localhost:8080/",
          "height": 220
        },
        "outputId": "487cd9b2-82ae-44b6-f7e8-c80f6a3e49c0"
      },
      "source": [
        "# Standarisasi\n",
        "col = df_train.keys()\n",
        "\n",
        "stdscalar = StandardScaler()\n",
        "datascale = stdscalar.fit_transform(df_train)\n",
        "\n",
        "df_train_S = pd.DataFrame(datascale, columns=col)\n",
        "df_train_S.head()"
      ],
      "execution_count": null,
      "outputs": [
        {
          "output_type": "execute_result",
          "data": {
            "text/html": [
              "<div>\n",
              "<style scoped>\n",
              "    .dataframe tbody tr th:only-of-type {\n",
              "        vertical-align: middle;\n",
              "    }\n",
              "\n",
              "    .dataframe tbody tr th {\n",
              "        vertical-align: top;\n",
              "    }\n",
              "\n",
              "    .dataframe thead th {\n",
              "        text-align: right;\n",
              "    }\n",
              "</style>\n",
              "<table border=\"1\" class=\"dataframe\">\n",
              "  <thead>\n",
              "    <tr style=\"text-align: right;\">\n",
              "      <th></th>\n",
              "      <th>Umur</th>\n",
              "      <th>Kelas Pekerja</th>\n",
              "      <th>Berat Akhir</th>\n",
              "      <th>Pendidikan</th>\n",
              "      <th>Jmlh Tahun Pendidikan</th>\n",
              "      <th>Status Perkawinan</th>\n",
              "      <th>Pekerjaan</th>\n",
              "      <th>Jenis Kelamin</th>\n",
              "      <th>Keuntungan Kapital</th>\n",
              "      <th>Kerugian Capital</th>\n",
              "      <th>Jam per Minggu</th>\n",
              "      <th>Gaji</th>\n",
              "    </tr>\n",
              "  </thead>\n",
              "  <tbody>\n",
              "    <tr>\n",
              "      <th>0</th>\n",
              "      <td>0.105565</td>\n",
              "      <td>-0.306676</td>\n",
              "      <td>0.145859</td>\n",
              "      <td>-0.522170</td>\n",
              "      <td>-0.419967</td>\n",
              "      <td>-1.790871</td>\n",
              "      <td>-1.008150</td>\n",
              "      <td>-0.707604</td>\n",
              "      <td>-0.145553</td>\n",
              "      <td>-0.216733</td>\n",
              "      <td>-0.032215</td>\n",
              "      <td>1.794819</td>\n",
              "    </tr>\n",
              "    <tr>\n",
              "      <th>1</th>\n",
              "      <td>-0.406564</td>\n",
              "      <td>1.542436</td>\n",
              "      <td>1.040483</td>\n",
              "      <td>-1.565109</td>\n",
              "      <td>-1.590969</td>\n",
              "      <td>1.183939</td>\n",
              "      <td>-1.272342</td>\n",
              "      <td>-0.707604</td>\n",
              "      <td>-0.145553</td>\n",
              "      <td>-0.216733</td>\n",
              "      <td>-0.032215</td>\n",
              "      <td>-0.557159</td>\n",
              "    </tr>\n",
              "    <tr>\n",
              "      <th>2</th>\n",
              "      <td>-0.918693</td>\n",
              "      <td>-0.306676</td>\n",
              "      <td>-0.791264</td>\n",
              "      <td>0.868416</td>\n",
              "      <td>0.360700</td>\n",
              "      <td>0.192335</td>\n",
              "      <td>-0.215573</td>\n",
              "      <td>1.413220</td>\n",
              "      <td>-0.145553</td>\n",
              "      <td>-0.216733</td>\n",
              "      <td>-0.032215</td>\n",
              "      <td>-0.557159</td>\n",
              "    </tr>\n",
              "    <tr>\n",
              "      <th>3</th>\n",
              "      <td>1.129823</td>\n",
              "      <td>0.617880</td>\n",
              "      <td>-0.688019</td>\n",
              "      <td>1.216062</td>\n",
              "      <td>1.141368</td>\n",
              "      <td>-0.799268</td>\n",
              "      <td>0.048620</td>\n",
              "      <td>-0.707604</td>\n",
              "      <td>-0.145553</td>\n",
              "      <td>-0.216733</td>\n",
              "      <td>-0.032215</td>\n",
              "      <td>1.794819</td>\n",
              "    </tr>\n",
              "    <tr>\n",
              "      <th>4</th>\n",
              "      <td>0.690855</td>\n",
              "      <td>-0.306676</td>\n",
              "      <td>0.748908</td>\n",
              "      <td>-0.522170</td>\n",
              "      <td>-0.419967</td>\n",
              "      <td>1.183939</td>\n",
              "      <td>-1.008150</td>\n",
              "      <td>-0.707604</td>\n",
              "      <td>-0.145553</td>\n",
              "      <td>-0.216733</td>\n",
              "      <td>0.776086</td>\n",
              "      <td>-0.557159</td>\n",
              "    </tr>\n",
              "  </tbody>\n",
              "</table>\n",
              "</div>"
            ],
            "text/plain": [
              "       Umur  Kelas Pekerja  ...  Jam per Minggu      Gaji\n",
              "0  0.105565      -0.306676  ...       -0.032215  1.794819\n",
              "1 -0.406564       1.542436  ...       -0.032215 -0.557159\n",
              "2 -0.918693      -0.306676  ...       -0.032215 -0.557159\n",
              "3  1.129823       0.617880  ...       -0.032215  1.794819\n",
              "4  0.690855      -0.306676  ...        0.776086 -0.557159\n",
              "\n",
              "[5 rows x 12 columns]"
            ]
          },
          "metadata": {
            "tags": []
          },
          "execution_count": 24
        }
      ]
    },
    {
      "cell_type": "code",
      "metadata": {
        "scrolled": true,
        "id": "O6Baq-oo-CQD",
        "colab_type": "code",
        "colab": {
          "base_uri": "https://localhost:8080/",
          "height": 202
        },
        "outputId": "0344c0be-74cb-4474-d0b3-073a6c822ea2"
      },
      "source": [
        "col = df_test.keys()\n",
        "\n",
        "stdscalar = StandardScaler()\n",
        "datascale = stdscalar.fit_transform(df_test)\n",
        "\n",
        "df_test_S = pd.DataFrame(datascale, columns=col)\n",
        "df_test_S.head()"
      ],
      "execution_count": null,
      "outputs": [
        {
          "output_type": "execute_result",
          "data": {
            "text/html": [
              "<div>\n",
              "<style scoped>\n",
              "    .dataframe tbody tr th:only-of-type {\n",
              "        vertical-align: middle;\n",
              "    }\n",
              "\n",
              "    .dataframe tbody tr th {\n",
              "        vertical-align: top;\n",
              "    }\n",
              "\n",
              "    .dataframe thead th {\n",
              "        text-align: right;\n",
              "    }\n",
              "</style>\n",
              "<table border=\"1\" class=\"dataframe\">\n",
              "  <thead>\n",
              "    <tr style=\"text-align: right;\">\n",
              "      <th></th>\n",
              "      <th>Umur</th>\n",
              "      <th>Kelas Pekerja</th>\n",
              "      <th>Berat Akhir</th>\n",
              "      <th>Pendidikan</th>\n",
              "      <th>Jmlh Tahun Pendidikan</th>\n",
              "      <th>Status Perkawinan</th>\n",
              "      <th>Pekerjaan</th>\n",
              "      <th>Jenis Kelamin</th>\n",
              "      <th>Keuntungan Kapital</th>\n",
              "      <th>Kerugian Capital</th>\n",
              "      <th>Jam per Minggu</th>\n",
              "    </tr>\n",
              "  </thead>\n",
              "  <tbody>\n",
              "    <tr>\n",
              "      <th>0</th>\n",
              "      <td>-0.582893</td>\n",
              "      <td>2.398283</td>\n",
              "      <td>0.163982</td>\n",
              "      <td>-0.522794</td>\n",
              "      <td>-0.422521</td>\n",
              "      <td>-0.793930</td>\n",
              "      <td>-0.087872</td>\n",
              "      <td>1.455535</td>\n",
              "      <td>-0.145301</td>\n",
              "      <td>-0.213838</td>\n",
              "      <td>-0.045659</td>\n",
              "    </tr>\n",
              "    <tr>\n",
              "      <th>1</th>\n",
              "      <td>-0.364972</td>\n",
              "      <td>-0.308280</td>\n",
              "      <td>1.247611</td>\n",
              "      <td>-0.522794</td>\n",
              "      <td>-0.422521</td>\n",
              "      <td>-0.793930</td>\n",
              "      <td>0.711638</td>\n",
              "      <td>-0.687032</td>\n",
              "      <td>-0.145301</td>\n",
              "      <td>-0.213838</td>\n",
              "      <td>-0.045659</td>\n",
              "    </tr>\n",
              "    <tr>\n",
              "      <th>2</th>\n",
              "      <td>1.378395</td>\n",
              "      <td>-0.308280</td>\n",
              "      <td>-1.503031</td>\n",
              "      <td>-0.522794</td>\n",
              "      <td>-0.422521</td>\n",
              "      <td>-0.793930</td>\n",
              "      <td>1.511148</td>\n",
              "      <td>-0.687032</td>\n",
              "      <td>-0.145301</td>\n",
              "      <td>-0.213838</td>\n",
              "      <td>1.565382</td>\n",
              "    </tr>\n",
              "    <tr>\n",
              "      <th>3</th>\n",
              "      <td>0.724632</td>\n",
              "      <td>-0.308280</td>\n",
              "      <td>4.949107</td>\n",
              "      <td>-0.522794</td>\n",
              "      <td>-0.422521</td>\n",
              "      <td>-0.793930</td>\n",
              "      <td>-0.887382</td>\n",
              "      <td>-0.687032</td>\n",
              "      <td>-0.145301</td>\n",
              "      <td>-0.213838</td>\n",
              "      <td>0.195997</td>\n",
              "    </tr>\n",
              "    <tr>\n",
              "      <th>4</th>\n",
              "      <td>1.523676</td>\n",
              "      <td>-0.308280</td>\n",
              "      <td>0.049822</td>\n",
              "      <td>-0.522794</td>\n",
              "      <td>-0.422521</td>\n",
              "      <td>3.183072</td>\n",
              "      <td>-0.087872</td>\n",
              "      <td>1.455535</td>\n",
              "      <td>-0.145301</td>\n",
              "      <td>-0.213838</td>\n",
              "      <td>-1.656701</td>\n",
              "    </tr>\n",
              "  </tbody>\n",
              "</table>\n",
              "</div>"
            ],
            "text/plain": [
              "       Umur  Kelas Pekerja  ...  Kerugian Capital  Jam per Minggu\n",
              "0 -0.582893       2.398283  ...         -0.213838       -0.045659\n",
              "1 -0.364972      -0.308280  ...         -0.213838       -0.045659\n",
              "2  1.378395      -0.308280  ...         -0.213838        1.565382\n",
              "3  0.724632      -0.308280  ...         -0.213838        0.195997\n",
              "4  1.523676      -0.308280  ...         -0.213838       -1.656701\n",
              "\n",
              "[5 rows x 11 columns]"
            ]
          },
          "metadata": {
            "tags": []
          },
          "execution_count": 25
        }
      ]
    },
    {
      "cell_type": "code",
      "metadata": {
        "id": "wm-0s4wB-CQV",
        "colab_type": "code",
        "colab": {
          "base_uri": "https://localhost:8080/",
          "height": 69
        },
        "outputId": "273c4a5c-0786-4eea-92d6-0fe3649fea90"
      },
      "source": [
        "# Melihat keseimbangan data Gaji\n",
        "df_train['Gaji'].value_counts()"
      ],
      "execution_count": null,
      "outputs": [
        {
          "output_type": "execute_result",
          "data": {
            "text/plain": [
              "0    21973\n",
              "1     6821\n",
              "Name: Gaji, dtype: int64"
            ]
          },
          "metadata": {
            "tags": []
          },
          "execution_count": 26
        }
      ]
    },
    {
      "cell_type": "code",
      "metadata": {
        "id": "tfTo2vAO-CQg",
        "colab_type": "code",
        "colab": {}
      },
      "source": [
        "# memisah data depanden dan independen\n",
        "# Pemilihan data train, dan data test\n",
        "X_train = df_train.drop('Gaji', axis=1)\n",
        "y_train = df_train['Gaji']\n",
        "y_train = y_train\n",
        "\n",
        "X_test = df_test"
      ],
      "execution_count": null,
      "outputs": []
    },
    {
      "cell_type": "code",
      "metadata": {
        "id": "rqc297fl-CQr",
        "colab_type": "code",
        "colab": {
          "base_uri": "https://localhost:8080/",
          "height": 242
        },
        "outputId": "07d53e47-a0d9-40a5-c54f-fccdc1b9d868"
      },
      "source": [
        "# Algoritma KNN\n",
        "# Ujicoba tuning hyperparameter KNN\n",
        "model = KNeighborsClassifier()\n",
        "param_grids = {'n_neighbors':np.arange(10,30), 'weights': ['uniform','distance']}\n",
        "rscv = RandomizedSearchCV(model, param_distributions=param_grids, n_iter=25, scoring='roc_auc', cv=5)\n",
        "rscv.fit(X_train,y_train)"
      ],
      "execution_count": null,
      "outputs": [
        {
          "output_type": "execute_result",
          "data": {
            "text/plain": [
              "RandomizedSearchCV(cv=5, error_score=nan,\n",
              "                   estimator=KNeighborsClassifier(algorithm='auto',\n",
              "                                                  leaf_size=30,\n",
              "                                                  metric='minkowski',\n",
              "                                                  metric_params=None,\n",
              "                                                  n_jobs=None, n_neighbors=5,\n",
              "                                                  p=2, weights='uniform'),\n",
              "                   iid='deprecated', n_iter=25, n_jobs=None,\n",
              "                   param_distributions={'n_neighbors': array([10, 11, 12, 13, 14, 15, 16, 17, 18, 19, 20, 21, 22, 23, 24, 25, 26,\n",
              "       27, 28, 29]),\n",
              "                                        'weights': ['uniform', 'distance']},\n",
              "                   pre_dispatch='2*n_jobs', random_state=None, refit=True,\n",
              "                   return_train_score=False, scoring='roc_auc', verbose=0)"
            ]
          },
          "metadata": {
            "tags": []
          },
          "execution_count": 28
        }
      ]
    },
    {
      "cell_type": "code",
      "metadata": {
        "id": "zhLkfcFs-CQ7",
        "colab_type": "code",
        "colab": {
          "base_uri": "https://localhost:8080/",
          "height": 52
        },
        "outputId": "5ff74562-5ec0-47e7-a000-35dae70a840d"
      },
      "source": [
        "# Mendapatkan hyperparameter dan score terbaik\n",
        "print(rscv.best_params_)\n",
        "print(rscv.best_score_)"
      ],
      "execution_count": null,
      "outputs": [
        {
          "output_type": "stream",
          "text": [
            "{'weights': 'distance', 'n_neighbors': 18}\n",
            "0.7265260082208188\n"
          ],
          "name": "stdout"
        }
      ]
    },
    {
      "cell_type": "code",
      "metadata": {
        "id": "sZ8cetCx-CRA",
        "colab_type": "code",
        "colab": {
          "base_uri": "https://localhost:8080/",
          "height": 69
        },
        "outputId": "df822524-e939-4c73-9e12-ff9ba57916ae"
      },
      "source": [
        "# Gunakan hyperparameter terbaik setelah tuning pada model KNN\n",
        "model_knn = KNeighborsClassifier(n_neighbors=10, weights='distance')\n",
        "model_knn.fit(X_train, y_train)"
      ],
      "execution_count": null,
      "outputs": [
        {
          "output_type": "execute_result",
          "data": {
            "text/plain": [
              "KNeighborsClassifier(algorithm='auto', leaf_size=30, metric='minkowski',\n",
              "                     metric_params=None, n_jobs=None, n_neighbors=10, p=2,\n",
              "                     weights='distance')"
            ]
          },
          "metadata": {
            "tags": []
          },
          "execution_count": 30
        }
      ]
    },
    {
      "cell_type": "code",
      "metadata": {
        "id": "4ze3nZYn-CRS",
        "colab_type": "code",
        "colab": {
          "base_uri": "https://localhost:8080/",
          "height": 52
        },
        "outputId": "5baca4cf-0c4c-43c6-ed9a-03934c38ca3a"
      },
      "source": [
        "# Lakukan train model dan prediksi data test\n",
        "model_knn.fit(X_train, y_train)\n",
        "y_predict_train = model_knn.predict(X_train)\n",
        "y_predict_test = model_knn.predict(X_test)\n",
        "print(y_predict_train)\n",
        "print(y_predict_test)"
      ],
      "execution_count": null,
      "outputs": [
        {
          "output_type": "stream",
          "text": [
            "[1 0 0 ... 0 0 0]\n",
            "[0 0 0 ... 0 0 0]\n"
          ],
          "name": "stdout"
        }
      ]
    },
    {
      "cell_type": "code",
      "metadata": {
        "id": "skZnBjff-CRq",
        "colab_type": "code",
        "colab": {
          "base_uri": "https://localhost:8080/",
          "height": 34
        },
        "outputId": "b048c1ed-4edd-48c4-af0e-07f55867c81e"
      },
      "source": [
        "# Validasi hasil prediksi data train dan test\n",
        "from sklearn.metrics import accuracy_score \n",
        "print('Score data train', accuracy_score(y_train, y_predict_train))"
      ],
      "execution_count": null,
      "outputs": [
        {
          "output_type": "stream",
          "text": [
            "Score data train 0.9998958116274224\n"
          ],
          "name": "stdout"
        }
      ]
    },
    {
      "cell_type": "code",
      "metadata": {
        "id": "DUd7qWW--CRx",
        "colab_type": "code",
        "colab": {
          "base_uri": "https://localhost:8080/",
          "height": 446
        },
        "outputId": "b42c916a-d567-4216-988f-3d343c312f6a"
      },
      "source": [
        "# Ubah data test menjadi data Frame\n",
        "df = pd.read_csv('pendapatan_test.csv')\n",
        "hasil = pd.DataFrame(y_predict_test, columns=['Gaji'], index=df['id'])\n",
        "hasil"
      ],
      "execution_count": null,
      "outputs": [
        {
          "output_type": "execute_result",
          "data": {
            "text/html": [
              "<div>\n",
              "<style scoped>\n",
              "    .dataframe tbody tr th:only-of-type {\n",
              "        vertical-align: middle;\n",
              "    }\n",
              "\n",
              "    .dataframe tbody tr th {\n",
              "        vertical-align: top;\n",
              "    }\n",
              "\n",
              "    .dataframe thead th {\n",
              "        text-align: right;\n",
              "    }\n",
              "</style>\n",
              "<table border=\"1\" class=\"dataframe\">\n",
              "  <thead>\n",
              "    <tr style=\"text-align: right;\">\n",
              "      <th></th>\n",
              "      <th>Gaji</th>\n",
              "    </tr>\n",
              "    <tr>\n",
              "      <th>id</th>\n",
              "      <th></th>\n",
              "    </tr>\n",
              "  </thead>\n",
              "  <tbody>\n",
              "    <tr>\n",
              "      <th>28794</th>\n",
              "      <td>0</td>\n",
              "    </tr>\n",
              "    <tr>\n",
              "      <th>28795</th>\n",
              "      <td>0</td>\n",
              "    </tr>\n",
              "    <tr>\n",
              "      <th>28796</th>\n",
              "      <td>0</td>\n",
              "    </tr>\n",
              "    <tr>\n",
              "      <th>28797</th>\n",
              "      <td>0</td>\n",
              "    </tr>\n",
              "    <tr>\n",
              "      <th>28798</th>\n",
              "      <td>0</td>\n",
              "    </tr>\n",
              "    <tr>\n",
              "      <th>...</th>\n",
              "      <td>...</td>\n",
              "    </tr>\n",
              "    <tr>\n",
              "      <th>38388</th>\n",
              "      <td>1</td>\n",
              "    </tr>\n",
              "    <tr>\n",
              "      <th>38389</th>\n",
              "      <td>1</td>\n",
              "    </tr>\n",
              "    <tr>\n",
              "      <th>38390</th>\n",
              "      <td>0</td>\n",
              "    </tr>\n",
              "    <tr>\n",
              "      <th>38391</th>\n",
              "      <td>0</td>\n",
              "    </tr>\n",
              "    <tr>\n",
              "      <th>38392</th>\n",
              "      <td>0</td>\n",
              "    </tr>\n",
              "  </tbody>\n",
              "</table>\n",
              "<p>9599 rows × 1 columns</p>\n",
              "</div>"
            ],
            "text/plain": [
              "       Gaji\n",
              "id         \n",
              "28794     0\n",
              "28795     0\n",
              "28796     0\n",
              "28797     0\n",
              "28798     0\n",
              "...     ...\n",
              "38388     1\n",
              "38389     1\n",
              "38390     0\n",
              "38391     0\n",
              "38392     0\n",
              "\n",
              "[9599 rows x 1 columns]"
            ]
          },
          "metadata": {
            "tags": []
          },
          "execution_count": 35
        }
      ]
    },
    {
      "cell_type": "code",
      "metadata": {
        "id": "mu5RiRhQ-CR4",
        "colab_type": "code",
        "colab": {}
      },
      "source": [
        "# Simpan data test pada file csv\n",
        "hasil.to_csv('salary_prediction.csv')"
      ],
      "execution_count": null,
      "outputs": []
    },
    {
      "cell_type": "code",
      "metadata": {
        "id": "ZBkxmaEd-CSB",
        "colab_type": "code",
        "colab": {
          "base_uri": "https://localhost:8080/",
          "height": 110
        },
        "outputId": "a7b50ec2-07a2-4703-b212-2bce8cf7c71c"
      },
      "source": [
        "Gaji_kurang_sama_7jt = 0\n",
        "Gaji_diatas_7jt = 0\n",
        "for i in hasil['Gaji']:\n",
        "    if i == 0:\n",
        "        Gaji_kurang_sama_7jt += 1\n",
        "    else:\n",
        "        Gaji_diatas_7jt +=1\n",
        "        \n",
        "Daftar = {'Gaji':['<=7jt', '>7jt'], 'Jumlah':[Gaji_kurang_sama_7jt, Gaji_diatas_7jt]}\n",
        "Daftar_Gaji = pd.DataFrame(Daftar)\n",
        "Daftar_Gaji"
      ],
      "execution_count": null,
      "outputs": [
        {
          "output_type": "execute_result",
          "data": {
            "text/html": [
              "<div>\n",
              "<style scoped>\n",
              "    .dataframe tbody tr th:only-of-type {\n",
              "        vertical-align: middle;\n",
              "    }\n",
              "\n",
              "    .dataframe tbody tr th {\n",
              "        vertical-align: top;\n",
              "    }\n",
              "\n",
              "    .dataframe thead th {\n",
              "        text-align: right;\n",
              "    }\n",
              "</style>\n",
              "<table border=\"1\" class=\"dataframe\">\n",
              "  <thead>\n",
              "    <tr style=\"text-align: right;\">\n",
              "      <th></th>\n",
              "      <th>Gaji</th>\n",
              "      <th>Jumlah</th>\n",
              "    </tr>\n",
              "  </thead>\n",
              "  <tbody>\n",
              "    <tr>\n",
              "      <th>0</th>\n",
              "      <td>&lt;=7jt</td>\n",
              "      <td>8383</td>\n",
              "    </tr>\n",
              "    <tr>\n",
              "      <th>1</th>\n",
              "      <td>&gt;7jt</td>\n",
              "      <td>1216</td>\n",
              "    </tr>\n",
              "  </tbody>\n",
              "</table>\n",
              "</div>"
            ],
            "text/plain": [
              "    Gaji  Jumlah\n",
              "0  <=7jt    8383\n",
              "1   >7jt    1216"
            ]
          },
          "metadata": {
            "tags": []
          },
          "execution_count": 37
        }
      ]
    },
    {
      "cell_type": "code",
      "metadata": {
        "id": "xSK1Dbjr-CSO",
        "colab_type": "code",
        "colab": {
          "base_uri": "https://localhost:8080/",
          "height": 294
        },
        "outputId": "3f05c9a8-7ec4-4186-dc99-4a782c73af99"
      },
      "source": [
        "import matplotlib.pyplot as plt\n",
        "\n",
        "fig, ax = plt.subplots()\n",
        "ax.bar(Daftar['Gaji'], Daftar['Jumlah'])\n",
        "ax.set_xlabel('Gaji')\n",
        "ax.set_ylabel('Jumlah')\n",
        "ax.set_title('Prediksi Jumlah Gaji')\n",
        "plt.show()"
      ],
      "execution_count": null,
      "outputs": [
        {
          "output_type": "display_data",
          "data": {
            "image/png": "[encoded data removed]",
            "text/plain": [
              "<Figure size 432x288 with 1 Axes>"
            ]
          },
          "metadata": {
            "tags": [],
            "needs_background": "light"
          }
        }
      ]
    },
    {
      "cell_type": "markdown",
      "metadata": {
        "id": "i4rceOD2-CSU",
        "colab_type": "text"
      },
      "source": [
        "Berdasarkan visualisasi tersebut, diketahui bahwa hasil prediksi dari besarnya gaji menggunakan algoritma KNN mayoritas responden bergaji kurang dari atau sama dengan 7 juta, yaitu sebanyak 8650 orang."
      ]
    },
    {
      "cell_type": "code",
      "metadata": {
        "id": "DOLu89yX-CSY",
        "colab_type": "code",
        "colab": {}
      },
      "source": [
        ""
      ],
      "execution_count": null,
      "outputs": []
    }
  ]
}