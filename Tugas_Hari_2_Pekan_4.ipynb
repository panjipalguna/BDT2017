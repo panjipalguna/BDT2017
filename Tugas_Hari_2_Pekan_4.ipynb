{
  "nbformat": 4,
  "nbformat_minor": 0,
  "metadata": {
    "kernelspec": {
      "display_name": "Python 3",
      "language": "python",
      "name": "python3"
    },
    "language_info": {
      "codemirror_mode": {
        "name": "ipython",
        "version": 3
      },
      "file_extension": ".py",
      "mimetype": "text/x-python",
      "name": "python",
      "nbconvert_exporter": "python",
      "pygments_lexer": "ipython3",
      "version": "3.7.6"
    },
    "colab": {
      "name": "Tugas Hari 2 Pekan 4.ipynb",
      "provenance": [],
      "collapsed_sections": [],
      "include_colab_link": true
    }
  },
  "cells": [
    {
      "cell_type": "markdown",
      "metadata": {
        "id": "view-in-github",
        "colab_type": "text"
      },
      "source": [
        "<a href=\"https://colab.research.google.com/github/panjipalguna/BDT2017/blob/master/Tugas_Hari_2_Pekan_4.ipynb\" target=\"_parent\"><img src=\"https://colab.research.google.com/assets/colab-badge.svg\" alt=\"Open In Colab\"/></a>"
      ]
    },
    {
      "cell_type": "markdown",
      "metadata": {
        "id": "5K6xQ_mFbt7B",
        "colab_type": "text"
      },
      "source": [
        "<h1>Soal 1: Pemahaman Algoritma</h1>\n",
        "\n",
        "Jawab Pertanyaan di bawah ini dengan penyampaian bahasa sendiri!\n",
        "\n",
        "1. Bagaimana proses algoritma KNN?\n",
        "2. Jelaskan minimal 2 kekurangan dari algoritma KNN?"
      ]
    },
    {
      "cell_type": "markdown",
      "metadata": {
        "id": "00A5KWAygagM",
        "colab_type": "text"
      },
      "source": [
        "Jawab:"
      ]
    },
    {
      "cell_type": "markdown",
      "metadata": {
        "id": "9uOi3j9SUpm1",
        "colab_type": "text"
      },
      "source": [
        "**Proses Algoritma KNN**\n",
        "1. Menghitung jarak antar dua poin\n",
        "2. Mengambil K terdekat\n",
        "3. Melakukan Voting\n",
        "\n",
        "**Kekurangan dari Algoritma KNN**\n",
        "1. Sensitif terhadap data pencilan\n",
        "2. Kalau misalkan genap jumlah K nya, pas label tetangganya sama, mengambil kelas secara random"
      ]
    },
    {
      "cell_type": "markdown",
      "metadata": {
        "id": "UDvanK5pgcnF",
        "colab_type": "text"
      },
      "source": [
        "---"
      ]
    },
    {
      "cell_type": "markdown",
      "metadata": {
        "id": "VsHxDJ4jbt7P",
        "colab_type": "text"
      },
      "source": [
        "<h1>Soal 2: Pengaplikasian Algoritma KNN</h1>\n",
        "\n",
        "- Buatlah model KNN\n",
        "- Training model tersebut kepada data X_train dengan hyperparameter kombinasi antara  2<= k <=20 dan weights bernilai 'uniform', dan 'distance'  \n",
        "- Lakukan prediksi terhadap data X_test untuk model di setiap kombinasi k dan weights\n",
        "- Score dengan accuracy dari hasil prediksi terhadap data X_test untuk setiap kombinasi hyperparameter, masukan score tersebut ke dalam objek list dengan di groupkan berdasarkan jenis weights, sehingga di akhir kita punya variable misalkan list_uniform_score, dan list_distance_score\n",
        "- Plot kedua list tersebut dengan lineplot kedalam satu axis dan bandingkan hasilnya"
      ]
    },
    {
      "cell_type": "code",
      "metadata": {
        "id": "Gng40Wu8bt7c",
        "colab_type": "code",
        "colab": {}
      },
      "source": [
        "from sklearn.datasets import load_wine\n",
        "import pandas as pd\n",
        "import numpy as np\n",
        "\n",
        "wine = load_wine()\n",
        "df = pd.DataFrame(np.c_[wine['data'], wine['target']], columns= wine['feature_names'] + ['class'])\n",
        "\n",
        "#Preprocessing data\n",
        "X = df.drop('class', axis=1)\n",
        "y = df['class']\n",
        "\n",
        "from sklearn.model_selection import train_test_split\n",
        "\n",
        "X_train, X_test, y_train, y_test = train_test_split(X, y, test_size=0.2, random_state=21)"
      ],
      "execution_count": 1,
      "outputs": []
    },
    {
      "cell_type": "code",
      "metadata": {
        "id": "WYBTTltdVEdX",
        "colab_type": "code",
        "colab": {}
      },
      "source": [
        "from sklearn.neighbors import KNeighborsClassifier\n",
        "from itertools import product"
      ],
      "execution_count": 2,
      "outputs": []
    },
    {
      "cell_type": "code",
      "metadata": {
        "id": "KSOaDjULVVOh",
        "colab_type": "code",
        "colab": {}
      },
      "source": [
        "ks=np.arange(2,21)\n",
        "weights=['distance','uniform']"
      ],
      "execution_count": 3,
      "outputs": []
    },
    {
      "cell_type": "code",
      "metadata": {
        "id": "zibZcQUqWL1s",
        "colab_type": "code",
        "colab": {}
      },
      "source": [
        "def knn_predict(k,weight):\n",
        "    model=KNeighborsClassifier(n_neighbors=k,weights=weight)\n",
        "    model.fit(X_train,y_train)\n",
        "    score=model.score(X_test,y_test)\n",
        "    return score"
      ],
      "execution_count": 4,
      "outputs": []
    },
    {
      "cell_type": "code",
      "metadata": {
        "id": "NoLhwuBrct06",
        "colab_type": "code",
        "colab": {}
      },
      "source": [
        "KNeighborsClassifier?"
      ],
      "execution_count": 5,
      "outputs": []
    },
    {
      "cell_type": "code",
      "metadata": {
        "id": "gBnwJftLV4qn",
        "colab_type": "code",
        "colab": {
          "base_uri": "https://localhost:8080/",
          "height": 106
        },
        "outputId": "6884fe3c-bba7-48f0-feac-446c9fe1c269"
      },
      "source": [
        "list_uniform_score=[]\n",
        "list_distance_score=[]\n",
        "for k,weight in product(ks,weights):\n",
        "  score=knn_predict(k=k,weight=weight)\n",
        "  if weight=='uniform':\n",
        "    list_uniform_score.append(score)\n",
        "  elif weight=='distance':\n",
        "    list_distance_score.append(score)\n",
        "\n",
        "print('Uniform Score\\n',list_uniform_score)\n",
        "print('Distance Score\\n',list_distance_score)\n",
        "\n"
      ],
      "execution_count": 6,
      "outputs": [
        {
          "output_type": "stream",
          "text": [
            "Uniform Score\n",
            " [0.6944444444444444, 0.8055555555555556, 0.7222222222222222, 0.6666666666666666, 0.6388888888888888, 0.75, 0.6388888888888888, 0.6944444444444444, 0.6944444444444444, 0.7222222222222222, 0.6388888888888888, 0.6666666666666666, 0.6388888888888888, 0.6666666666666666, 0.6111111111111112, 0.6666666666666666, 0.6388888888888888, 0.6666666666666666, 0.6111111111111112]\n",
            "Distance Score\n",
            " [0.75, 0.8333333333333334, 0.7777777777777778, 0.75, 0.7222222222222222, 0.75, 0.6944444444444444, 0.7222222222222222, 0.6944444444444444, 0.6944444444444444, 0.6944444444444444, 0.6944444444444444, 0.6944444444444444, 0.6666666666666666, 0.6666666666666666, 0.6666666666666666, 0.6666666666666666, 0.6666666666666666, 0.6666666666666666]\n"
          ],
          "name": "stdout"
        }
      ]
    },
    {
      "cell_type": "code",
      "metadata": {
        "id": "MTSEA5M4Z15L",
        "colab_type": "code",
        "colab": {
          "base_uri": "https://localhost:8080/",
          "height": 294
        },
        "outputId": "12e08225-5304-4e15-9989-619745b4a192"
      },
      "source": [
        "import matplotlib.pyplot as plt\n",
        "fig,ax=plt.subplots()\n",
        "ax.plot(ks,list_uniform_score,color='b', label='Uniform Score')\n",
        "ax.plot(ks,list_distance_score, color='g', label='Distance Score')\n",
        "fig.legend()\n",
        "plt.show()"
      ],
      "execution_count": 7,
      "outputs": [
        {
          "output_type": "display_data",
          "data": {
            "image/png": "[encoded data removed]",
            "text/plain": [
              "<Figure size 432x288 with 1 Axes>"
            ]
          },
          "metadata": {
            "tags": [],
            "needs_background": "light"
          }
        }
      ]
    },
    {
      "cell_type": "markdown",
      "metadata": {
        "id": "9IRv63G0bt8T",
        "colab_type": "text"
      },
      "source": [
        "Contoh hasil yang di harapkan :\n",
        "\n",
        "\n",
        "```\n",
        "Uniform Scores:\n",
        "[0.6944444444444444,\n",
        " 0.8055555555555556,\n",
        " 0.7222222222222222,\n",
        " 0.6666666666666666,\n",
        " 0.6388888888888888,\n",
        " 0.75,\n",
        " 0.6388888888888888,\n",
        " 0.6944444444444444,\n",
        " 0.6944444444444444,\n",
        " 0.7222222222222222,\n",
        " 0.6388888888888888,\n",
        " 0.6666666666666666,\n",
        " 0.6388888888888888,\n",
        " 0.6666666666666666,\n",
        " 0.6111111111111112,\n",
        " 0.6666666666666666,\n",
        " 0.6388888888888888,\n",
        " 0.6666666666666666,\n",
        " 0.6111111111111112]\n",
        "\n",
        "Distance scores:\n",
        "[0.75,\n",
        " 0.8333333333333334,\n",
        " 0.7777777777777778,\n",
        " 0.75,\n",
        " 0.7222222222222222,\n",
        " 0.75,\n",
        " 0.6944444444444444,\n",
        " 0.7222222222222222,\n",
        " 0.6944444444444444,\n",
        " 0.6944444444444444,\n",
        " 0.6944444444444444,\n",
        " 0.6944444444444444,\n",
        " 0.6944444444444444,\n",
        " 0.6666666666666666,\n",
        " 0.6666666666666666,\n",
        " 0.6666666666666666,\n",
        " 0.6666666666666666,\n",
        " 0.6666666666666666,\n",
        " 0.6666666666666666]\n",
        "```\n",
        "\n",
        "\n",
        "\n",
        " \n",
        "\n",
        "\n",
        "![alt text](https://drive.google.com/uc?id=1pppy_BWQsg5tdgOBEU1GgiHSklLLoimt)"
      ]
    },
    {
      "cell_type": "markdown",
      "metadata": {
        "id": "UnInuMmFgfQp",
        "colab_type": "text"
      },
      "source": [
        "---"
      ]
    },
    {
      "cell_type": "markdown",
      "metadata": {
        "id": "1xGA6Usmbt8b",
        "colab_type": "text"
      },
      "source": [
        "<h1>Soal 3: Pengaplikasian Model Linear Regression</h1>\n",
        "\n",
        "Applikasikan model linear regresi kedalam data berikut. Kemudian tunjukan parameter koefesien dan intercept dari model tersebut."
      ]
    },
    {
      "cell_type": "code",
      "metadata": {
        "id": "IEsbrAiybt8i",
        "colab_type": "code",
        "colab": {}
      },
      "source": [
        "import numpy as np\n",
        "\n",
        "rng = np.random.RandomState(1)\n",
        "\n",
        "x = 10 * rng.rand(50, 4)\n",
        "y = np.array([  0.9826564 ,  49.40390035,  85.76013175,  29.17254633,\n",
        "        11.270054  ,  61.53852735, -19.52503854,  10.10230867,\n",
        "        82.03058206,  45.72660678,  82.09252575,  90.78872391,\n",
        "        67.94178098,  39.97492762, 124.78866966,  85.24615819,\n",
        "        85.68491086,  80.39481211,  14.54591581, 137.19722354,\n",
        "        85.04063428,  94.76681927,  84.64289989,  38.76421156,\n",
        "        47.33953927,  94.50853335,  77.3276567 ,  -9.77846805,\n",
        "        61.13434468,  42.12124052,  26.65634335, 120.41593333,\n",
        "       138.08132504, 103.33745675, 145.64447692,  19.54777986,\n",
        "        87.40631024, 111.47327389,  95.94874761, 146.34817502,\n",
        "       118.10333528,  56.85956484, 108.57660235, 114.30790247,\n",
        "        40.27107041,  73.83871008,  45.52217182,  -7.57752547,\n",
        "       147.81772162, 139.40285349])"
      ],
      "execution_count": 8,
      "outputs": []
    },
    {
      "cell_type": "code",
      "metadata": {
        "id": "zLXum8UagfwJ",
        "colab_type": "code",
        "colab": {}
      },
      "source": [
        "from sklearn.linear_model import LinearRegression"
      ],
      "execution_count": 9,
      "outputs": []
    },
    {
      "cell_type": "code",
      "metadata": {
        "id": "8x2Ucd_ZguR4",
        "colab_type": "code",
        "colab": {
          "base_uri": "https://localhost:8080/",
          "height": 34
        },
        "outputId": "5cb5d38d-9519-4445-9c47-72872444d3ed"
      },
      "source": [
        "model_lr=LinearRegression(fit_intercept=True)\n",
        "model_lr.fit(x,y)"
      ],
      "execution_count": 10,
      "outputs": [
        {
          "output_type": "execute_result",
          "data": {
            "text/plain": [
              "LinearRegression(copy_X=True, fit_intercept=True, n_jobs=None, normalize=False)"
            ]
          },
          "metadata": {
            "tags": []
          },
          "execution_count": 10
        }
      ]
    },
    {
      "cell_type": "code",
      "metadata": {
        "id": "wvDljZdBgxvQ",
        "colab_type": "code",
        "colab": {
          "base_uri": "https://localhost:8080/",
          "height": 34
        },
        "outputId": "d34f659c-35f7-4cf7-e5af-2aa57ab40b0e"
      },
      "source": [
        "model_lr.coef_"
      ],
      "execution_count": 11,
      "outputs": [
        {
          "output_type": "execute_result",
          "data": {
            "text/plain": [
              "array([ 1.5, -5. ,  9. , 10. ])"
            ]
          },
          "metadata": {
            "tags": []
          },
          "execution_count": 11
        }
      ]
    },
    {
      "cell_type": "code",
      "metadata": {
        "id": "anAdB987g2r5",
        "colab_type": "code",
        "colab": {
          "base_uri": "https://localhost:8080/",
          "height": 34
        },
        "outputId": "62b0c4fe-8946-4b6e-876b-3d948bd0877f"
      },
      "source": [
        "model_lr.intercept_"
      ],
      "execution_count": 12,
      "outputs": [
        {
          "output_type": "execute_result",
          "data": {
            "text/plain": [
              "0.5000000016247981"
            ]
          },
          "metadata": {
            "tags": []
          },
          "execution_count": 12
        }
      ]
    },
    {
      "cell_type": "code",
      "metadata": {
        "id": "32cUkxyAg5ZC",
        "colab_type": "code",
        "colab": {}
      },
      "source": [
        "y=1.5*x-5*x+9*x+10*x+5"
      ],
      "execution_count": 13,
      "outputs": []
    },
    {
      "cell_type": "code",
      "metadata": {
        "id": "88LnivvjhDg5",
        "colab_type": "code",
        "colab": {
          "base_uri": "https://localhost:8080/",
          "height": 884
        },
        "outputId": "73d472a1-5d46-4a22-9707-6251366bb0d6"
      },
      "source": [
        "y"
      ],
      "execution_count": 14,
      "outputs": [
        {
          "output_type": "execute_result",
          "data": {
            "text/plain": [
              "array([[ 69.63841073, 116.65029648,   5.0177281 ,  51.86154876],\n",
              "       [ 27.74716308,  19.31248219,  33.87033276,  58.56191269],\n",
              "       [ 66.49895851,  88.51659377,  69.97514973, 111.20902256],\n",
              "       [ 36.69009871, 141.10820264,   9.24507695, 108.92246408],\n",
              "       [ 69.68224437,  91.59692341,  26.75997548,  35.70573081],\n",
              "       [129.11540814, 155.08054424,  53.58074761, 112.31000543],\n",
              "       [140.84031861, 143.66403284,  18.18185276,  11.0534914 ],\n",
              "       [ 31.32371503, 141.11208803,  20.24375924,  70.27168188],\n",
              "       [153.47287717,  87.64061917, 112.24095266,  53.90492281],\n",
              "       [111.40764379, 134.36697914,   7.83468299, 121.27236882],\n",
              "       [158.27346878, 120.96567643,  48.46881877, 127.33829591],\n",
              "       [ 21.00003102,  74.42349656, 145.83230298,  50.510193  ],\n",
              "       [ 49.60517748,  25.15442868,   8.00187847, 110.21950761],\n",
              "       [ 37.80235798,  46.1597322 ,  81.19383969,  13.27119449],\n",
              "       [ 93.98822885,  27.74292911,  96.34235822, 113.4625458 ],\n",
              "       [ 20.86183647,  69.17867811, 112.63202445,  69.19778678],\n",
              "       [ 12.74278614,  88.06394292, 107.88817001,  84.80781237],\n",
              "       [151.41218718,  95.91603128, 145.02729687,  26.30857914],\n",
              "       [ 26.58783382, 130.14564975,  66.63990973,  30.62990055],\n",
              "       [148.76382996,  58.90370826, 121.37587599, 117.52968773],\n",
              "       [141.91244414, 101.66919209, 121.39607727,  59.07924301],\n",
              "       [ 46.83882322, 143.86236382,  71.35413443, 154.55020731],\n",
              "       [107.83343216, 101.36283663,  22.78562581, 152.1708351 ],\n",
              "       [ 74.73638069,  94.65039023,  68.26120443,  41.73918194],\n",
              "       [145.02382569,  93.92032043,   5.44490069, 100.65746161],\n",
              "       [ 55.62995977,  86.69400585, 142.32102539,  60.3768128 ],\n",
              "       [145.82294839, 101.62081795,   7.45229264, 149.06277123],\n",
              "       [112.08902222, 159.58504182,  31.71277879,  26.25604119],\n",
              "       [149.55229677, 113.00681503,  15.23002677, 122.09677315],\n",
              "       [121.85080921, 148.06880301, 115.28633759,  24.26199911],\n",
              "       [  8.08142075,   9.06270297,   9.38750564,  43.16271548],\n",
              "       [138.30433205,  88.51881497,  90.6874067 , 135.51478832],\n",
              "       [ 24.24686384,  48.27347025,  95.79268708, 155.28734099],\n",
              "       [ 91.95968398,   7.89032985, 129.09806427,  41.11101245],\n",
              "       [130.10130532,  65.11839983, 138.84898746, 120.80385462],\n",
              "       [ 91.21723627,  26.15055998,  14.28724187,  23.80823564],\n",
              "       [ 11.90554117,  21.66159001,  39.98494748, 115.51329196],\n",
              "       [ 91.75613222,   6.94617692,  16.15601335, 154.92783115],\n",
              "       [ 93.0555716 ,  36.51045137,  44.11049041, 120.29300738],\n",
              "       [ 35.29156957,  95.11063373, 155.35309831, 136.25846423],\n",
              "       [ 42.17640267,  81.53430571, 101.09313635, 133.49203943],\n",
              "       [ 29.30266617,   7.87931134,  15.85343228,  80.3834922 ],\n",
              "       [ 98.98106656,  93.17197275,  54.19117344, 158.23550393],\n",
              "       [ 94.86050898,  63.92188176,  90.39697396, 120.52683679],\n",
              "       [108.73109849,  46.06253144,  15.28189934,  62.36305068],\n",
              "       [102.60621359,  37.57697154, 121.67711083,  15.31315461],\n",
              "       [ 45.34884028, 129.73695738,  34.98231381, 104.11643654],\n",
              "       [ 86.32389791, 148.34523541,  45.81099943,  15.22396906],\n",
              "       [118.93522431, 124.68759458, 145.71145714, 149.45567073],\n",
              "       [  7.16249381,  41.32612335, 100.60064534, 152.09752971]])"
            ]
          },
          "metadata": {
            "tags": []
          },
          "execution_count": 14
        }
      ]
    }
  ]
}