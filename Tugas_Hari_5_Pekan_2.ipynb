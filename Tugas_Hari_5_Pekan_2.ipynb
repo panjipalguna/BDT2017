{
  "nbformat": 4,
  "nbformat_minor": 0,
  "metadata": {
    "kernelspec": {
      "display_name": "Python 3",
      "language": "python",
      "name": "python3"
    },
    "language_info": {
      "codemirror_mode": {
        "name": "ipython",
        "version": 3
      },
      "file_extension": ".py",
      "mimetype": "text/x-python",
      "name": "python",
      "nbconvert_exporter": "python",
      "pygments_lexer": "ipython3",
      "version": "3.7.7"
    },
    "colab": {
      "name": "Tugas Hari 5 Pekan 2.ipynb",
      "provenance": [],
      "collapsed_sections": [],
      "include_colab_link": true
    }
  },
  "cells": [
    {
      "cell_type": "markdown",
      "metadata": {
        "id": "view-in-github",
        "colab_type": "text"
      },
      "source": [
        "<a href=\"https://colab.research.google.com/github/panjipalguna/BDT2017/blob/master/Tugas_Hari_5_Pekan_2.ipynb\" target=\"_parent\"><img src=\"https://colab.research.google.com/assets/colab-badge.svg\" alt=\"Open In Colab\"/></a>"
      ]
    },
    {
      "cell_type": "markdown",
      "metadata": {
        "id": "Kn2L7gz1Cjak",
        "colab_type": "text"
      },
      "source": [
        "<h2>Soal 1: Penggabungan Data</h2>\n",
        "\n",
        "- Sebutkan perbedaan antara full outer join, inner join, dan left join"
      ]
    },
    {
      "cell_type": "markdown",
      "metadata": {
        "id": "lz5KBMyXCjau",
        "colab_type": "text"
      },
      "source": [
        "Jawab:\n",
        "Full Outer Join menghasilkan gabungan index bari dari setiap data yang di gabung.Full Outer Join menggabungan pula column yang berbeda. Memberikan nilai null untuk nilai column yang tidak di miliki oleh suatu index tertentu.\n",
        "\n",
        "Inner join ini akan menggabungkan data antara nilai key/referensi yang beririsan.\n",
        "\n",
        "Left Outer Join menghasilkan seluruh data dari data yang kiri ditambah data kanan yang memiliki nilai key yang sama dengan data dari kiri."
      ]
    },
    {
      "cell_type": "markdown",
      "metadata": {
        "id": "H8k-jVewCjax",
        "colab_type": "text"
      },
      "source": [
        "<h2>Soal 2: Penggabungan Data</h2>\n",
        "\n",
        "Pada quiz no 2 ini gunakan data [names1881.csv](https://drive.google.com/uc?export=download&id=1Pwu3cv93hI79jmi52kJ05xhophknDKat) dan [names1981.csv](https://drive.google.com/uc?export=download&id=1pvsGaybr423hJXcN35e5nS3sg4ha4jo3), data ini berisi nama bayi yang lahir pada tahun 1881 atau 1981 di Amerika.\n",
        "\n",
        "- Baca data tersebut dengan memberikan nama column 'Name', 'Gender', 'Count'.\n",
        "- Tunjukan jumlah dimensi dari data 'names1881.csv' dan 'names1981.csv'\n",
        "- Gabungkan kedua data tersebut berdasarkan sumbu baris\n",
        "- Tunjukan jumlah dimensi dari data setelah di gabungkan."
      ]
    },
    {
      "cell_type": "code",
      "metadata": {
        "id": "nThN7zO2Cjaz",
        "colab_type": "code",
        "colab": {
          "base_uri": "https://localhost:8080/",
          "height": 51
        },
        "outputId": "f3a9dc22-2bcf-4c5b-ba06-72db06017ca1"
      },
      "source": [
        "import pandas as pd\n",
        "# read data\n",
        "df1 = pd.read_csv(\"names1881.csv\",names=['Name','Gender','Count'])\n",
        "df1\n",
        "df2 = pd.read_csv(\"names1981.csv\",names=['Name','Gender','Count'])\n",
        "df2\n",
        "print(\"Jumlah Dimensi data 'names1881.csv' :\",df1.shape)\n",
        "print(\"Jumlah Baris data 'names1981.csv' :\",df2.shape)"
      ],
      "execution_count": 1,
      "outputs": [
        {
          "output_type": "stream",
          "text": [
            "Jumlah Dimensi data 'names1881.csv' : (1935, 3)\n",
            "Jumlah Baris data 'names1981.csv' : (19455, 3)\n"
          ],
          "name": "stdout"
        }
      ]
    },
    {
      "cell_type": "code",
      "metadata": {
        "id": "Hid5KSLEeIBU",
        "colab_type": "code",
        "colab": {
          "base_uri": "https://localhost:8080/",
          "height": 436
        },
        "outputId": "10eee407-d274-40a5-a106-63d60e599973"
      },
      "source": [
        "df_gabung=[df1,df2]\n",
        "df=pd.concat(df_gabung,ignore_index=True)\n",
        "display(df)\n",
        "print(\"Junmlah Data setelah Penggabungan\",df.shape)"
      ],
      "execution_count": 2,
      "outputs": [
        {
          "output_type": "display_data",
          "data": {
            "text/html": [
              "<div>\n",
              "<style scoped>\n",
              "    .dataframe tbody tr th:only-of-type {\n",
              "        vertical-align: middle;\n",
              "    }\n",
              "\n",
              "    .dataframe tbody tr th {\n",
              "        vertical-align: top;\n",
              "    }\n",
              "\n",
              "    .dataframe thead th {\n",
              "        text-align: right;\n",
              "    }\n",
              "</style>\n",
              "<table border=\"1\" class=\"dataframe\">\n",
              "  <thead>\n",
              "    <tr style=\"text-align: right;\">\n",
              "      <th></th>\n",
              "      <th>Name</th>\n",
              "      <th>Gender</th>\n",
              "      <th>Count</th>\n",
              "    </tr>\n",
              "  </thead>\n",
              "  <tbody>\n",
              "    <tr>\n",
              "      <th>0</th>\n",
              "      <td>Mary</td>\n",
              "      <td>F</td>\n",
              "      <td>6919</td>\n",
              "    </tr>\n",
              "    <tr>\n",
              "      <th>1</th>\n",
              "      <td>Anna</td>\n",
              "      <td>F</td>\n",
              "      <td>2698</td>\n",
              "    </tr>\n",
              "    <tr>\n",
              "      <th>2</th>\n",
              "      <td>Emma</td>\n",
              "      <td>F</td>\n",
              "      <td>2034</td>\n",
              "    </tr>\n",
              "    <tr>\n",
              "      <th>3</th>\n",
              "      <td>Elizabeth</td>\n",
              "      <td>F</td>\n",
              "      <td>1852</td>\n",
              "    </tr>\n",
              "    <tr>\n",
              "      <th>4</th>\n",
              "      <td>Margaret</td>\n",
              "      <td>F</td>\n",
              "      <td>1658</td>\n",
              "    </tr>\n",
              "    <tr>\n",
              "      <th>...</th>\n",
              "      <td>...</td>\n",
              "      <td>...</td>\n",
              "      <td>...</td>\n",
              "    </tr>\n",
              "    <tr>\n",
              "      <th>21385</th>\n",
              "      <td>Zeferino</td>\n",
              "      <td>M</td>\n",
              "      <td>5</td>\n",
              "    </tr>\n",
              "    <tr>\n",
              "      <th>21386</th>\n",
              "      <td>Zerrick</td>\n",
              "      <td>M</td>\n",
              "      <td>5</td>\n",
              "    </tr>\n",
              "    <tr>\n",
              "      <th>21387</th>\n",
              "      <td>Zimbabwe</td>\n",
              "      <td>M</td>\n",
              "      <td>5</td>\n",
              "    </tr>\n",
              "    <tr>\n",
              "      <th>21388</th>\n",
              "      <td>Zoltan</td>\n",
              "      <td>M</td>\n",
              "      <td>5</td>\n",
              "    </tr>\n",
              "    <tr>\n",
              "      <th>21389</th>\n",
              "      <td>Zuriel</td>\n",
              "      <td>M</td>\n",
              "      <td>5</td>\n",
              "    </tr>\n",
              "  </tbody>\n",
              "</table>\n",
              "<p>21390 rows × 3 columns</p>\n",
              "</div>"
            ],
            "text/plain": [
              "            Name Gender  Count\n",
              "0           Mary      F   6919\n",
              "1           Anna      F   2698\n",
              "2           Emma      F   2034\n",
              "3      Elizabeth      F   1852\n",
              "4       Margaret      F   1658\n",
              "...          ...    ...    ...\n",
              "21385   Zeferino      M      5\n",
              "21386    Zerrick      M      5\n",
              "21387   Zimbabwe      M      5\n",
              "21388     Zoltan      M      5\n",
              "21389     Zuriel      M      5\n",
              "\n",
              "[21390 rows x 3 columns]"
            ]
          },
          "metadata": {
            "tags": []
          }
        },
        {
          "output_type": "stream",
          "text": [
            "Junmlah Data setelah Penggabungan (21390, 3)\n"
          ],
          "name": "stdout"
        }
      ]
    },
    {
      "cell_type": "markdown",
      "metadata": {
        "id": "vxp88Xe5CjbF",
        "colab_type": "text"
      },
      "source": [
        "Expected Result: \n",
        "\n",
        "Jumlah Dimensi data 'names1881.csv': \n",
        "\n",
        "(1935, 3)\n",
        "\n",
        "Jumlah Baris data 'names1981.csv':\n",
        "\n",
        "(19455, 3)\n",
        "\n",
        "![alt text](https://drive.google.com/uc?id=1jMCAdLrcJubjufydZBnzdQkYqDS3Klat)\n",
        "\n",
        "Jumlah dimensi data setelah penggabungan : \n",
        "\n",
        "(21390, 3)"
      ]
    },
    {
      "cell_type": "markdown",
      "metadata": {
        "id": "yALBDvlQCjbJ",
        "colab_type": "text"
      },
      "source": [
        "<h2>Soal 3: Penggabungan Data</h2>\n",
        "\n",
        "Lakukan jenis penggabungan data full outer join, inner join, left outer join dan right outer join pada kedua data berikut: "
      ]
    },
    {
      "cell_type": "code",
      "metadata": {
        "id": "GQtYaV1gCjbM",
        "colab_type": "code",
        "colab": {
          "base_uri": "https://localhost:8080/",
          "height": 204
        },
        "outputId": "4d818a4e-60a6-41bf-ff9b-6868f9e51e91"
      },
      "source": [
        "import pandas as pd\n",
        "\n",
        "data1 = {\n",
        "    'id' : [1, 2, 3, 4],\n",
        "    'Feature1' : ['a1', 'a2', 'a3', 'a4'],\n",
        "    'Feature2' : ['b1', 'b2', 'b3', 'b4']\n",
        "}\n",
        "\n",
        "data2 = {\n",
        "    'id' : [3, 4, 5 ,6, 7],\n",
        "    'Feature3' : ['c1', 'c2', 'c3', 'c4', 'c5']\n",
        "}\n",
        "\n",
        "df1= pd.DataFrame(data1)\n",
        "df2= pd.DataFrame(data2)\n",
        "\n",
        "print(df1)\n",
        "print(df2)"
      ],
      "execution_count": 3,
      "outputs": [
        {
          "output_type": "stream",
          "text": [
            "   id Feature1 Feature2\n",
            "0   1       a1       b1\n",
            "1   2       a2       b2\n",
            "2   3       a3       b3\n",
            "3   4       a4       b4\n",
            "   id Feature3\n",
            "0   3       c1\n",
            "1   4       c2\n",
            "2   5       c3\n",
            "3   6       c4\n",
            "4   7       c5\n"
          ],
          "name": "stdout"
        }
      ]
    },
    {
      "cell_type": "code",
      "metadata": {
        "id": "sMuRgJYhCjbg",
        "colab_type": "code",
        "colab": {
          "base_uri": "https://localhost:8080/",
          "height": 391
        },
        "outputId": "44e9f470-e5a0-42cb-8fa3-bb195fc0f2bd"
      },
      "source": [
        "# join data\n",
        "df_outer_join = pd.merge(df1,df2,on='id',how='outer')\n",
        "print(df_outer_join)\n",
        "\n",
        "df_inner_join = pd.merge(df1,df2,on=\"id\",how=\"inner\")\n",
        "print(df_inner_join)\n",
        "\n",
        "df_left_join = pd.merge(df1,df2,on=\"id\",how=\"left\")\n",
        "print(df_left_join)\n",
        "\n",
        "df_right_join = pd.merge(df1,df2,on=\"id\",how=\"right\")\n",
        "print(df_right_join)"
      ],
      "execution_count": 4,
      "outputs": [
        {
          "output_type": "stream",
          "text": [
            "   id Feature1 Feature2 Feature3\n",
            "0   1       a1       b1      NaN\n",
            "1   2       a2       b2      NaN\n",
            "2   3       a3       b3       c1\n",
            "3   4       a4       b4       c2\n",
            "4   5      NaN      NaN       c3\n",
            "5   6      NaN      NaN       c4\n",
            "6   7      NaN      NaN       c5\n",
            "   id Feature1 Feature2 Feature3\n",
            "0   3       a3       b3       c1\n",
            "1   4       a4       b4       c2\n",
            "   id Feature1 Feature2 Feature3\n",
            "0   1       a1       b1      NaN\n",
            "1   2       a2       b2      NaN\n",
            "2   3       a3       b3       c1\n",
            "3   4       a4       b4       c2\n",
            "   id Feature1 Feature2 Feature3\n",
            "0   3       a3       b3       c1\n",
            "1   4       a4       b4       c2\n",
            "2   5      NaN      NaN       c3\n",
            "3   6      NaN      NaN       c4\n",
            "4   7      NaN      NaN       c5\n"
          ],
          "name": "stdout"
        }
      ]
    },
    {
      "cell_type": "markdown",
      "metadata": {
        "id": "p2YbxGt8Cjb1",
        "colab_type": "text"
      },
      "source": [
        "Expected Result:\n",
        "\n",
        "![alt text](https://drive.google.com/uc?id=1kUpkzWh3Y-X_1H1QXHiccdHf4YjqXsDu)\n",
        "\n",
        "![alt text](https://drive.google.com/uc?id=1ojoAC2oX9P3ZHl0lS3RXipd7gShLOmmC)\n",
        "\n",
        "![alt text](https://drive.google.com/uc?id=12jDnQzIosn6dizVwl2nPMX1IhhyEZ4FA)\n",
        "\n",
        "![alt text](https://drive.google.com/uc?id=11znqscNsVZ-cHY-PPgoHEBDWyc6XRtAL)"
      ]
    },
    {
      "cell_type": "markdown",
      "metadata": {
        "id": "2hfhFcsACjb4",
        "colab_type": "text"
      },
      "source": [
        "<h2>Soal 4: Penggabungan Data berbeda label column Key</h2>\n",
        "\n",
        "Lakukan jenis penggabungan inner join untuk 2 data yang memiliki nama column key yang berbeda ini:"
      ]
    },
    {
      "cell_type": "code",
      "metadata": {
        "id": "9eE1RWfKCjb9",
        "colab_type": "code",
        "colab": {
          "base_uri": "https://localhost:8080/",
          "height": 204
        },
        "outputId": "b5633b2f-c82d-4195-d031-4d1c3e1659df"
      },
      "source": [
        "import pandas as pd\n",
        "data1 = {\n",
        "    'key_data1' : [1, 2, 3, 4],\n",
        "    'Feature1' : ['a1', 'a2', 'a3', 'a4'],\n",
        "    'Feature2' : ['b1', 'b2', 'b3', 'b4']\n",
        "}\n",
        "\n",
        "data2 = {\n",
        "    'key_data2' : [3, 4, 5 ,6, 7],\n",
        "    'Feature3' : ['c1', 'c2', 'c3', 'c4', 'c5']\n",
        "}\n",
        "\n",
        "df1= pd.DataFrame(data1)\n",
        "df2= pd.DataFrame(data2)\n",
        "\n",
        "print(df1)\n",
        "print(df2)"
      ],
      "execution_count": 5,
      "outputs": [
        {
          "output_type": "stream",
          "text": [
            "   key_data1 Feature1 Feature2\n",
            "0          1       a1       b1\n",
            "1          2       a2       b2\n",
            "2          3       a3       b3\n",
            "3          4       a4       b4\n",
            "   key_data2 Feature3\n",
            "0          3       c1\n",
            "1          4       c2\n",
            "2          5       c3\n",
            "3          6       c4\n",
            "4          7       c5\n"
          ],
          "name": "stdout"
        }
      ]
    },
    {
      "cell_type": "code",
      "metadata": {
        "id": "OiD9K234CjcV",
        "colab_type": "code",
        "colab": {
          "base_uri": "https://localhost:8080/",
          "height": 111
        },
        "outputId": "f6cbdf06-d103-49e4-a3ba-68dd90c2c5e4"
      },
      "source": [
        "# Gabungkan kedua data tersebut\n",
        "df_gabung = pd.merge(df1,df2,left_on='key_data1',right_on='key_data2')\n",
        "df_gabung"
      ],
      "execution_count": 6,
      "outputs": [
        {
          "output_type": "execute_result",
          "data": {
            "text/html": [
              "<div>\n",
              "<style scoped>\n",
              "    .dataframe tbody tr th:only-of-type {\n",
              "        vertical-align: middle;\n",
              "    }\n",
              "\n",
              "    .dataframe tbody tr th {\n",
              "        vertical-align: top;\n",
              "    }\n",
              "\n",
              "    .dataframe thead th {\n",
              "        text-align: right;\n",
              "    }\n",
              "</style>\n",
              "<table border=\"1\" class=\"dataframe\">\n",
              "  <thead>\n",
              "    <tr style=\"text-align: right;\">\n",
              "      <th></th>\n",
              "      <th>key_data1</th>\n",
              "      <th>Feature1</th>\n",
              "      <th>Feature2</th>\n",
              "      <th>key_data2</th>\n",
              "      <th>Feature3</th>\n",
              "    </tr>\n",
              "  </thead>\n",
              "  <tbody>\n",
              "    <tr>\n",
              "      <th>0</th>\n",
              "      <td>3</td>\n",
              "      <td>a3</td>\n",
              "      <td>b3</td>\n",
              "      <td>3</td>\n",
              "      <td>c1</td>\n",
              "    </tr>\n",
              "    <tr>\n",
              "      <th>1</th>\n",
              "      <td>4</td>\n",
              "      <td>a4</td>\n",
              "      <td>b4</td>\n",
              "      <td>4</td>\n",
              "      <td>c2</td>\n",
              "    </tr>\n",
              "  </tbody>\n",
              "</table>\n",
              "</div>"
            ],
            "text/plain": [
              "   key_data1 Feature1 Feature2  key_data2 Feature3\n",
              "0          3       a3       b3          3       c1\n",
              "1          4       a4       b4          4       c2"
            ]
          },
          "metadata": {
            "tags": []
          },
          "execution_count": 6
        }
      ]
    },
    {
      "cell_type": "markdown",
      "metadata": {
        "id": "KP38kgIBCjco",
        "colab_type": "text"
      },
      "source": [
        "Expected Result:\n",
        "\n",
        "![alt text](https://drive.google.com/uc?id=1uBiVOPnqns4al88FDc0ENIeTzIxP4wxH)"
      ]
    }
  ]
}